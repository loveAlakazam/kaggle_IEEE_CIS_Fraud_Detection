{
 "cells": [
  {
   "cell_type": "markdown",
   "metadata": {},
   "source": [
    "### 데이터셋 임포트하기"
   ]
  },
  {
   "cell_type": "code",
   "execution_count": 16,
   "metadata": {},
   "outputs": [
    {
     "name": "stdout",
     "output_type": "stream",
     "text": [
      "['sample_submission.csv', 'test_identity.csv', 'test_transaction.csv', 'train_identity.csv', 'train_transaction.csv']\n"
     ]
    }
   ],
   "source": [
    "import numpy as np \n",
    "import pandas as pd \n",
    "\n",
    "import seaborn as sns\n",
    "import matplotlib.pyplot as plt\n",
    "\n",
    "import os\n",
    "\n",
    "# for local execution\n",
    "current_dir = os.path.abspath('.')\n",
    "dataset_dir = os.path.join(os.path.abspath(current_dir + \"/../\"), 'dataset_kaggle_IEEE_CIS_Fraud_Detection')\n",
    "print(os.listdir(dataset_dir))"
   ]
  },
  {
   "cell_type": "code",
   "execution_count": 18,
   "metadata": {},
   "outputs": [],
   "source": [
    "# 데이터 로딩(for Kaggle Kernel)\n",
    "# train_tran = pd.read_csv('../input/train_transaction.csv', index_col='TransactionID')\n",
    "# train_iden = pd.read_csv('../input/train_identity.csv', index_col='TransactionID')\n",
    "# test_tran = pd.read_csv('../input/test_transaction.csv', index_col='TransactionID')\n",
    "# test_iden = pd.read_csv('../input/test_identity.csv', index_col='TransactionID')\n",
    "# sample_sub = pd.read_csv('../input/sample_submission.csv', index_col='TransactionID')\n",
    "\n",
    "# 데이터 로딩 (for local execution)\n",
    "train_tran = pd.read_csv(os.path.join(dataset_dir, 'train_transaction.csv'), index_col='TransactionID')\n",
    "train_iden = pd.read_csv(os.path.join(dataset_dir, 'train_identity.csv'), index_col='TransactionID')\n",
    "test_tran = pd.read_csv(os.path.join(dataset_dir, 'test_transaction.csv'), index_col='TransactionID')\n",
    "test_iden = pd.read_csv(os.path.join(dataset_dir, 'test_identity.csv'), index_col='TransactionID')\n",
    "sample_sub = pd.read_csv(os.path.join(dataset_dir, 'sample_submission.csv'), index_col='TransactionID')"
   ]
  },
  {
   "cell_type": "code",
   "execution_count": null,
   "metadata": {},
   "outputs": [],
   "source": [
    "# Join training datasets\n",
    "train = train_tran.merge(train_iden, how='left',left_index=True, right_index=True)\n",
    "train.shape"
   ]
  }
 ],
 "metadata": {
  "kernelspec": {
   "display_name": "Python 3",
   "language": "python",
   "name": "python3"
  },
  "language_info": {
   "codemirror_mode": {
    "name": "ipython",
    "version": 3
   },
   "file_extension": ".py",
   "mimetype": "text/x-python",
   "name": "python",
   "nbconvert_exporter": "python",
   "pygments_lexer": "ipython3",
   "version": "3.7.1"
  }
 },
 "nbformat": 4,
 "nbformat_minor": 2
}
