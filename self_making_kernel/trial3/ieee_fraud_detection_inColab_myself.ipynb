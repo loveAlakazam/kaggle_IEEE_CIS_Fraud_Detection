{
  "nbformat": 4,
  "nbformat_minor": 0,
  "metadata": {
    "colab": {
      "name": "ieee_fraud_detection_inColab_myself.ipynb",
      "version": "0.3.2",
      "provenance": [],
      "collapsed_sections": []
    },
    "kernelspec": {
      "name": "python3",
      "display_name": "Python 3"
    }
  },
  "cells": [
    {
      "cell_type": "markdown",
      "metadata": {
        "id": "9N1BtFRUoUMn",
        "colab_type": "text"
      },
      "source": [
        ""
      ]
    },
    {
      "cell_type": "markdown",
      "metadata": {
        "id": "mtdx4x_ehSOr",
        "colab_type": "text"
      },
      "source": [
        "# 구글 드라이브와 Colab 연동 "
      ]
    },
    {
      "cell_type": "code",
      "metadata": {
        "id": "BZr0eXvgnGiU",
        "colab_type": "code",
        "outputId": "1520e39c-de41-4a0f-cbd4-96e4ceddd56e",
        "colab": {
          "base_uri": "https://localhost:8080/",
          "height": 127
        }
      },
      "source": [
        "from google.colab import auth\n",
        "auth.authenticate_user()\n",
        "\n",
        "from google.colab import drive\n",
        "drive.mount('/content/gdrive', force_remount=True)"
      ],
      "execution_count": 0,
      "outputs": [
        {
          "output_type": "stream",
          "text": [
            "Go to this URL in a browser: https://accounts.google.com/o/oauth2/auth?client_id=947318989803-6bn6qk8qdgf4n4g3pfee6491hc0brc4i.apps.googleusercontent.com&redirect_uri=urn%3Aietf%3Awg%3Aoauth%3A2.0%3Aoob&scope=email%20https%3A%2F%2Fwww.googleapis.com%2Fauth%2Fdocs.test%20https%3A%2F%2Fwww.googleapis.com%2Fauth%2Fdrive%20https%3A%2F%2Fwww.googleapis.com%2Fauth%2Fdrive.photos.readonly%20https%3A%2F%2Fwww.googleapis.com%2Fauth%2Fpeopleapi.readonly&response_type=code\n",
            "\n",
            "Enter your authorization code:\n",
            "··········\n",
            "Mounted at /content/gdrive\n"
          ],
          "name": "stdout"
        }
      ]
    },
    {
      "cell_type": "code",
      "metadata": {
        "id": "-LpQqbXJqcuI",
        "colab_type": "code",
        "outputId": "8f30d67a-7a4a-4ee0-f970-06f8647706b3",
        "colab": {
          "base_uri": "https://localhost:8080/",
          "height": 35
        }
      },
      "source": [
        "!ls \"/content/gdrive/\""
      ],
      "execution_count": 0,
      "outputs": [
        {
          "output_type": "stream",
          "text": [
            "'My Drive'\n"
          ],
          "name": "stdout"
        }
      ]
    },
    {
      "cell_type": "code",
      "metadata": {
        "id": "2f43pOzwqnj_",
        "colab_type": "code",
        "colab": {}
      },
      "source": [
        "!ls \"/content/gdrive/My Drive/\""
      ],
      "execution_count": 0,
      "outputs": []
    },
    {
      "cell_type": "code",
      "metadata": {
        "id": "OPXqUKe5sDRG",
        "colab_type": "code",
        "colab": {}
      },
      "source": [
        "!cd \"/content/gdrive/My Drive/\""
      ],
      "execution_count": 0,
      "outputs": []
    },
    {
      "cell_type": "code",
      "metadata": {
        "id": "IEiHCtOKtN-A",
        "colab_type": "code",
        "outputId": "9ff4e312-ad5b-4851-9342-6668dbebbc48",
        "colab": {
          "base_uri": "https://localhost:8080/",
          "height": 35
        }
      },
      "source": [
        "!pwd"
      ],
      "execution_count": 0,
      "outputs": [
        {
          "output_type": "stream",
          "text": [
            "/content\n"
          ],
          "name": "stdout"
        }
      ]
    },
    {
      "cell_type": "code",
      "metadata": {
        "id": "GwJmzOxntPP-",
        "colab_type": "code",
        "colab": {}
      },
      "source": [
        "import pandas as pd\n",
        "import numpy as np\n",
        "import matplotlib.pyplot as plt\n",
        "import seaborn as sns\n",
        "%matplotlib inline\n",
        "\n",
        "\n",
        "from lightgbm import LGBMClassifier\n",
        "from sklearn.model_selection import train_test_split\n",
        "from sklearn.metrics import roc_auc_score\n",
        "\n",
        "import os"
      ],
      "execution_count": 0,
      "outputs": []
    },
    {
      "cell_type": "markdown",
      "metadata": {
        "id": "6INNNjdUyEP2",
        "colab_type": "text"
      },
      "source": [
        "# 메모리크기 줄이기\n",
        "\n",
        "[참고커널] [Leonardo Ferreira](https://www.kaggle.com/kabure/extensive-eda-and-modeling-xgb-hyperopt)"
      ]
    },
    {
      "cell_type": "code",
      "metadata": {
        "id": "JeYXbrYYyNWB",
        "colab_type": "code",
        "colab": {}
      },
      "source": [
        "def reduce_memory_use(df, verbose=True):\n",
        "  numerics=['int16','int32', 'int64', 'float16', 'float32', 'float64']\n",
        "  start_mem = df.memory_usage().sum()/1024**2\n",
        "  for col in df.columns:\n",
        "    col_type= df[col].dtypes\n",
        "    if col_type in numerics:\n",
        "      c_min = df[col].min() #df[컬럼] 최솟값\n",
        "      c_max = df[col].max() #df[컬럼] 최댓값\n",
        "      if str(col_type)[:3]=='int': #컬럼 타입이 int16~ int64 타입일때\n",
        "        if c_min>np.iinfo(np.int8).min and c_max<np.iinfo(np.int8).max:\n",
        "          df[col]= df[col].astype(np.int8) #int8로 전환\n",
        "        elif c_min>np.iinfo(np.int16).min and c_max<np.iinfo(np.int16).max:\n",
        "          df[col]= df[col].astype(np.int16) #int16으로 전환\n",
        "\n",
        "        elif c_min>np.iinfo(np.int32).min and c_max<np.iinfo(np.int32).max:\n",
        "          df[col]= df[col].astype(np.int32) #int32으로 전환\n",
        "\n",
        "        elif c_min>np.iinfo(np.int64).min and c_max<np.iinfo(np.int64).max:\n",
        "          df[col]= df[col].astype(np.int64) #int64으로 전환\n",
        "\n",
        "      else: #str(col_type)[:3]!='int' => float타입\n",
        "        if c_min>np.finfo(np.float16).min and c_max<np.finfo(np.float16).max:\n",
        "          df[col]= df[col].astype(np.float16) #float16으로 전환\n",
        "\n",
        "        elif c_min>np.finfo(np.float32).min and c_max<np.finfo(np.float32).max:\n",
        "          df[col]= df[col].astype(np.float32) #float32으로 전환\n",
        "\n",
        "        elif c_min>np.finfo(np.float64).min and c_max<np.finfo(np.float64).max:\n",
        "          df[col]= df[col].astype(np.float64) #float64으로 전환\n",
        "\n",
        "  end_mem = df.memory_usage().sum()/ 1024**2\n",
        "  if verbose:\n",
        "    print('Memory usage decreased to {:5.2f} Mb ({:.1f}% reduction)'.format( end_mem, 100*(start_mem -end_mem)/start_mem))\n",
        "  return df   "
      ],
      "execution_count": 0,
      "outputs": []
    },
    {
      "cell_type": "markdown",
      "metadata": {
        "id": "pwZxmGIMzAyv",
        "colab_type": "text"
      },
      "source": [
        "# 데이터셋 읽기"
      ]
    },
    {
      "cell_type": "code",
      "metadata": {
        "id": "JmYQAxvZvnDE",
        "colab_type": "code",
        "colab": {}
      },
      "source": [
        "train_transaction=pd.read_csv('/content/gdrive/My Drive/data/train_transaction.csv')\n",
        "train_identity = pd.read_csv('/content/gdrive/My Drive/data/train_identity.csv')\n",
        "\n",
        "# test 데이터 읽기\n",
        "test_transaction = pd.read_csv('/content/gdrive/My Drive/data/test_transaction.csv')\n",
        "test_identity = pd.read_csv('/content/gdrive/My Drive/data/test_identity.csv')"
      ],
      "execution_count": 0,
      "outputs": []
    },
    {
      "cell_type": "code",
      "metadata": {
        "id": "x3Y95i43vwZF",
        "colab_type": "code",
        "outputId": "9a8bdcfc-cecb-4e27-e0f5-878a2d45b242",
        "colab": {
          "base_uri": "https://localhost:8080/",
          "height": 89
        }
      },
      "source": [
        "# reduce_memory_use() 함수를 이용하여 데이터 크기 줄이기\n",
        "# train 데이터 줄이기\n",
        "train_transaction = reduce_memory_use(train_transaction)\n",
        "train_identity= reduce_memory_use(train_identity)\n",
        "\n",
        "# test 데이터 줄이기\n",
        "test_transaction = reduce_memory_use(test_transaction)\n",
        "test_identity= reduce_memory_use(test_identity)"
      ],
      "execution_count": 0,
      "outputs": [
        {
          "output_type": "stream",
          "text": [
            "Memory usage decreased to 542.35 Mb (69.4% reduction)\n",
            "Memory usage decreased to 25.86 Mb (42.7% reduction)\n",
            "Memory usage decreased to 472.59 Mb (68.9% reduction)\n",
            "Memory usage decreased to 25.44 Mb (42.7% reduction)\n"
          ],
          "name": "stdout"
        }
      ]
    },
    {
      "cell_type": "markdown",
      "metadata": {
        "id": "jjPjJAgKz2fz",
        "colab_type": "text"
      },
      "source": [
        "# 데이터 합치기"
      ]
    },
    {
      "cell_type": "code",
      "metadata": {
        "id": "8j2V3DXPzyCq",
        "colab_type": "code",
        "colab": {}
      },
      "source": [
        "train_merged = pd.merge(train_transaction, train_identity, on='TransactionID', how='left')\n",
        "test_merged = pd.merge(test_transaction, test_identity, on='TransactionID', how='left')"
      ],
      "execution_count": 0,
      "outputs": []
    },
    {
      "cell_type": "markdown",
      "metadata": {
        "id": "97rp7j6Qz0nr",
        "colab_type": "text"
      },
      "source": [
        "# Object / Numerical / Boolean 컬럼 분류"
      ]
    },
    {
      "cell_type": "code",
      "metadata": {
        "id": "X2pZfZaqzyjN",
        "colab_type": "code",
        "outputId": "dafa0bb0-970c-4b7e-b5e5-4fc947d5157a",
        "colab": {
          "base_uri": "https://localhost:8080/",
          "height": 107
        }
      },
      "source": [
        "# train_merged 데이터셋에서 \n",
        "# 데이터 타입별(object, int, float) 컬럼을 분류한다.\n",
        "object_columns = []\n",
        "numerical_columns = []\n",
        "boolean_columns =[]\n",
        "\n",
        "numerics=['int16','int32', 'int64', 'float16', 'float32', 'float64']\n",
        "\n",
        "\n",
        "# train_merged는 isFraud가 있는반면 test_merged는 없다.\n",
        "columns = test_merged.columns\n",
        "\n",
        "for column in columns:\n",
        "  column_dtype= train_merged[column].dtypes\n",
        "  \n",
        "  # 현재 컬럼의 데이터 타입이 문자열(String)이라면\n",
        "  if column_dtype=='object':\n",
        "    object_columns.append(column)\n",
        "  \n",
        "  # 현재 컬럼의 데이터 타입이 int/float이라면\n",
        "  elif column_dtype in numerics:\n",
        "    numerical_columns.append(column)\n",
        "    \n",
        "  # 현재 컬럼의 데이터 타입이 boolean이라면\n",
        "  elif column_dypte=='boolean':\n",
        "    boolean_columns.append(column)\n",
        "    \n",
        "print('\\n---------------------------------------------')\n",
        "print('numerical_columns(int64, float64) 개수: ', len(numerical_columns))\n",
        "print('object_columns 개수: ', len(object_columns))\n",
        "print('boolean_columns 개수: ', len(boolean_columns))"
      ],
      "execution_count": 0,
      "outputs": [
        {
          "output_type": "stream",
          "text": [
            "\n",
            "---------------------------------------------\n",
            "numerical_columns(int64, float64) 개수:  402\n",
            "object_columns 개수:  31\n",
            "boolean_columns 개수:  0\n"
          ],
          "name": "stdout"
        }
      ]
    },
    {
      "cell_type": "code",
      "metadata": {
        "id": "C0a2v0QWGUE_",
        "colab_type": "code",
        "outputId": "a29f5f1a-3872-445d-e810-06ef9d155e52",
        "colab": {
          "base_uri": "https://localhost:8080/",
          "height": 575
        }
      },
      "source": [
        "object_columns"
      ],
      "execution_count": 0,
      "outputs": [
        {
          "output_type": "execute_result",
          "data": {
            "text/plain": [
              "['ProductCD',\n",
              " 'card4',\n",
              " 'card6',\n",
              " 'P_emaildomain',\n",
              " 'R_emaildomain',\n",
              " 'M1',\n",
              " 'M2',\n",
              " 'M3',\n",
              " 'M4',\n",
              " 'M5',\n",
              " 'M6',\n",
              " 'M7',\n",
              " 'M8',\n",
              " 'M9',\n",
              " 'id_12',\n",
              " 'id_15',\n",
              " 'id_16',\n",
              " 'id_23',\n",
              " 'id_27',\n",
              " 'id_28',\n",
              " 'id_29',\n",
              " 'id_30',\n",
              " 'id_31',\n",
              " 'id_33',\n",
              " 'id_34',\n",
              " 'id_35',\n",
              " 'id_36',\n",
              " 'id_37',\n",
              " 'id_38',\n",
              " 'DeviceType',\n",
              " 'DeviceInfo']"
            ]
          },
          "metadata": {
            "tags": []
          },
          "execution_count": 13
        }
      ]
    },
    {
      "cell_type": "code",
      "metadata": {
        "id": "wdkRvRDv3TJa",
        "colab_type": "code",
        "outputId": "04308d06-a801-4390-ccc5-76e162a0aa1b",
        "colab": {
          "base_uri": "https://localhost:8080/",
          "height": 1000
        }
      },
      "source": [
        "# object_columns 에서 각 컬럼별 클래스 개수를 나타냈다.\n",
        "for obj_col in object_columns:\n",
        "  vcnt=train_merged[obj_col].value_counts()\n",
        "  print('\\n[{}]\\n{}\\n{} class 개수: {}'.format(obj_col, vcnt, obj_col, vcnt.nunique()))\n",
        "  print('----------------------------------------------------\\n')"
      ],
      "execution_count": 0,
      "outputs": [
        {
          "output_type": "stream",
          "text": [
            "\n",
            "[ProductCD]\n",
            "W    439670\n",
            "C     68519\n",
            "R     37699\n",
            "H     33024\n",
            "S     11628\n",
            "Name: ProductCD, dtype: int64\n",
            "ProductCD class 개수: 5\n",
            "----------------------------------------------------\n",
            "\n",
            "\n",
            "[card4]\n",
            "visa                384767\n",
            "mastercard          189217\n",
            "american express      8328\n",
            "discover              6651\n",
            "Name: card4, dtype: int64\n",
            "card4 class 개수: 4\n",
            "----------------------------------------------------\n",
            "\n",
            "\n",
            "[card6]\n",
            "debit              439938\n",
            "credit             148986\n",
            "debit or credit        30\n",
            "charge card            15\n",
            "Name: card6, dtype: int64\n",
            "card6 class 개수: 4\n",
            "----------------------------------------------------\n",
            "\n",
            "\n",
            "[P_emaildomain]\n",
            "gmail.com           228355\n",
            "yahoo.com           100934\n",
            "hotmail.com          45250\n",
            "anonymous.com        36998\n",
            "aol.com              28289\n",
            "comcast.net           7888\n",
            "icloud.com            6267\n",
            "outlook.com           5096\n",
            "msn.com               4092\n",
            "att.net               4033\n",
            "live.com              3041\n",
            "sbcglobal.net         2970\n",
            "verizon.net           2705\n",
            "ymail.com             2396\n",
            "bellsouth.net         1909\n",
            "yahoo.com.mx          1543\n",
            "me.com                1522\n",
            "cox.net               1393\n",
            "optonline.net         1011\n",
            "charter.net            816\n",
            "live.com.mx            749\n",
            "rocketmail.com         664\n",
            "mail.com               559\n",
            "earthlink.net          514\n",
            "gmail                  496\n",
            "outlook.es             438\n",
            "mac.com                436\n",
            "juno.com               322\n",
            "aim.com                315\n",
            "hotmail.es             305\n",
            "windstream.net         305\n",
            "roadrunner.com         305\n",
            "hotmail.fr             295\n",
            "frontier.com           280\n",
            "embarqmail.com         260\n",
            "web.de                 240\n",
            "twc.com                230\n",
            "netzero.com            230\n",
            "prodigy.net.mx         207\n",
            "centurylink.net        205\n",
            "netzero.net            196\n",
            "frontiernet.net        195\n",
            "q.com                  189\n",
            "suddenlink.net         175\n",
            "cfl.rr.com             172\n",
            "sc.rr.com              164\n",
            "cableone.net           159\n",
            "gmx.de                 149\n",
            "yahoo.fr               143\n",
            "yahoo.es               134\n",
            "hotmail.co.uk          112\n",
            "protonmail.com          76\n",
            "yahoo.de                74\n",
            "ptd.net                 68\n",
            "live.fr                 56\n",
            "yahoo.co.uk             49\n",
            "hotmail.de              43\n",
            "servicios-ta.com        35\n",
            "yahoo.co.jp             32\n",
            "Name: P_emaildomain, dtype: int64\n",
            "P_emaildomain class 개수: 56\n",
            "----------------------------------------------------\n",
            "\n",
            "\n",
            "[R_emaildomain]\n",
            "gmail.com           57147\n",
            "hotmail.com         27509\n",
            "anonymous.com       20529\n",
            "yahoo.com           11842\n",
            "aol.com              3701\n",
            "outlook.com          2507\n",
            "comcast.net          1812\n",
            "yahoo.com.mx         1508\n",
            "icloud.com           1398\n",
            "msn.com               852\n",
            "live.com              762\n",
            "live.com.mx           754\n",
            "verizon.net           620\n",
            "me.com                556\n",
            "sbcglobal.net         552\n",
            "cox.net               459\n",
            "outlook.es            433\n",
            "att.net               430\n",
            "bellsouth.net         422\n",
            "hotmail.fr            293\n",
            "hotmail.es            292\n",
            "web.de                237\n",
            "mac.com               218\n",
            "prodigy.net.mx        207\n",
            "ymail.com             207\n",
            "optonline.net         187\n",
            "gmx.de                147\n",
            "yahoo.fr              137\n",
            "charter.net           127\n",
            "mail.com              122\n",
            "hotmail.co.uk         105\n",
            "gmail                  95\n",
            "earthlink.net          79\n",
            "yahoo.de               75\n",
            "rocketmail.com         69\n",
            "embarqmail.com         68\n",
            "scranton.edu           63\n",
            "yahoo.es               57\n",
            "live.fr                55\n",
            "juno.com               53\n",
            "roadrunner.com         53\n",
            "frontier.com           52\n",
            "windstream.net         47\n",
            "hotmail.de             42\n",
            "protonmail.com         41\n",
            "yahoo.co.uk            39\n",
            "cfl.rr.com             37\n",
            "aim.com                36\n",
            "servicios-ta.com       35\n",
            "yahoo.co.jp            33\n",
            "twc.com                29\n",
            "cableone.net           27\n",
            "ptd.net                27\n",
            "q.com                  25\n",
            "suddenlink.net         25\n",
            "netzero.com            14\n",
            "frontiernet.net        14\n",
            "centurylink.net        12\n",
            "netzero.net             9\n",
            "sc.rr.com               8\n",
            "Name: R_emaildomain, dtype: int64\n",
            "R_emaildomain class 개수: 55\n",
            "----------------------------------------------------\n",
            "\n",
            "\n",
            "[M1]\n",
            "T    319415\n",
            "F        25\n",
            "Name: M1, dtype: int64\n",
            "M1 class 개수: 2\n",
            "----------------------------------------------------\n",
            "\n",
            "\n",
            "[M2]\n",
            "T    285468\n",
            "F     33972\n",
            "Name: M2, dtype: int64\n",
            "M2 class 개수: 2\n",
            "----------------------------------------------------\n",
            "\n",
            "\n",
            "[M3]\n",
            "T    251731\n",
            "F     67709\n",
            "Name: M3, dtype: int64\n",
            "M3 class 개수: 2\n",
            "----------------------------------------------------\n",
            "\n",
            "\n",
            "[M4]\n",
            "M0    196405\n",
            "M2     59865\n",
            "M1     52826\n",
            "Name: M4, dtype: int64\n",
            "M4 class 개수: 3\n",
            "----------------------------------------------------\n",
            "\n",
            "\n",
            "[M5]\n",
            "F    132491\n",
            "T    107567\n",
            "Name: M5, dtype: int64\n",
            "M5 class 개수: 2\n",
            "----------------------------------------------------\n",
            "\n",
            "\n",
            "[M6]\n",
            "F    227856\n",
            "T    193324\n",
            "Name: M6, dtype: int64\n",
            "M6 class 개수: 2\n",
            "----------------------------------------------------\n",
            "\n",
            "\n",
            "[M7]\n",
            "F    211374\n",
            "T     32901\n",
            "Name: M7, dtype: int64\n",
            "M7 class 개수: 2\n",
            "----------------------------------------------------\n",
            "\n",
            "\n",
            "[M8]\n",
            "F    155251\n",
            "T     89037\n",
            "Name: M8, dtype: int64\n",
            "M8 class 개수: 2\n",
            "----------------------------------------------------\n",
            "\n",
            "\n",
            "[M9]\n",
            "T    205656\n",
            "F     38632\n",
            "Name: M9, dtype: int64\n",
            "M9 class 개수: 2\n",
            "----------------------------------------------------\n",
            "\n",
            "\n",
            "[id_12]\n",
            "NotFound    123025\n",
            "Found        21208\n",
            "Name: id_12, dtype: int64\n",
            "id_12 class 개수: 2\n",
            "----------------------------------------------------\n",
            "\n",
            "\n",
            "[id_15]\n",
            "Found      67728\n",
            "New        61612\n",
            "Unknown    11645\n",
            "Name: id_15, dtype: int64\n",
            "id_15 class 개수: 3\n",
            "----------------------------------------------------\n",
            "\n",
            "\n",
            "[id_16]\n",
            "Found       66324\n",
            "NotFound    63016\n",
            "Name: id_16, dtype: int64\n",
            "id_16 class 개수: 2\n",
            "----------------------------------------------------\n",
            "\n",
            "\n",
            "[id_23]\n",
            "IP_PROXY:TRANSPARENT    3489\n",
            "IP_PROXY:ANONYMOUS      1071\n",
            "IP_PROXY:HIDDEN          609\n",
            "Name: id_23, dtype: int64\n",
            "id_23 class 개수: 3\n",
            "----------------------------------------------------\n",
            "\n",
            "\n",
            "[id_27]\n",
            "Found       5155\n",
            "NotFound      14\n",
            "Name: id_27, dtype: int64\n",
            "id_27 class 개수: 2\n",
            "----------------------------------------------------\n",
            "\n",
            "\n",
            "[id_28]\n",
            "Found    76232\n",
            "New      64746\n",
            "Name: id_28, dtype: int64\n",
            "id_28 class 개수: 2\n",
            "----------------------------------------------------\n",
            "\n",
            "\n",
            "[id_29]\n",
            "Found       74926\n",
            "NotFound    66052\n",
            "Name: id_29, dtype: int64\n",
            "id_29 class 개수: 2\n",
            "----------------------------------------------------\n",
            "\n",
            "\n",
            "[id_30]\n",
            "Windows 10          21155\n",
            "Windows 7           13110\n",
            "iOS 11.2.1           3722\n",
            "iOS 11.1.2           3699\n",
            "Android 7.0          2871\n",
            "Mac OS X 10_12_6     2559\n",
            "Mac OS X 10_11_6     2348\n",
            "iOS 11.3.0           2016\n",
            "Windows 8.1          1914\n",
            "Mac OS X 10_10_5     1651\n",
            "iOS 11.2.6           1647\n",
            "iOS 10.3.3           1558\n",
            "Mac OS X 10_13_2     1421\n",
            "Mac OS X 10_13_1     1211\n",
            "iOS 11.2.5           1200\n",
            "Linux                1136\n",
            "Android              1079\n",
            "iOS 11.2.2            902\n",
            "Mac OS X 10_13_3      860\n",
            "iOS 11.2.0            852\n",
            "Mac OS X 10_13_4      759\n",
            "iOS 11.1.1            700\n",
            "iOS 11.0.3            659\n",
            "Android 7.1.1         630\n",
            "Mac OS X 10_9_5       570\n",
            "Android 6.0.1         566\n",
            "iOS 10.3.2            428\n",
            "iOS 9.3.5             414\n",
            "Android 5.1.1         350\n",
            "Android 8.0.0         343\n",
            "                    ...  \n",
            "iOS 11.3.1            136\n",
            "Mac OS X 10.10        135\n",
            "Windows XP            131\n",
            "iOS 11.0.1            127\n",
            "Mac OS X 10_12_4      103\n",
            "iOS 10.1.1             96\n",
            "iOS 10.0.2             95\n",
            "Mac OS X 10_12_3       95\n",
            "Mac OS X 10_7_5        93\n",
            "Mac OS X 10_11_5       82\n",
            "Android 6.0            80\n",
            "Mac OS X 10_8_5        74\n",
            "Android 4.4.2          63\n",
            "Mac OS X 10.9          58\n",
            "Android 5.0.2          55\n",
            "Mac OS X 10_11_3       54\n",
            "Mac OS X 10_11_4       53\n",
            "Mac OS X 10_6_8        50\n",
            "Mac OS X 10_12         49\n",
            "Mac OS X 10.6          49\n",
            "Mac OS X 10_12_1       44\n",
            "Android 5.0            41\n",
            "Mac OS X 10_12_2       33\n",
            "Android 7.1.2          33\n",
            "other                  15\n",
            "func                   10\n",
            "iOS 11.4.0              5\n",
            "Mac OS X 10_13_5        4\n",
            "Windows                 3\n",
            "iOS 11.4.1              1\n",
            "Name: id_30, Length: 75, dtype: int64\n",
            "id_30 class 개수: 72\n",
            "----------------------------------------------------\n",
            "\n",
            "\n",
            "[id_31]\n",
            "chrome 63.0                   22000\n",
            "mobile safari 11.0            13423\n",
            "mobile safari generic         11474\n",
            "ie 11.0 for desktop            9030\n",
            "safari generic                 8195\n",
            "chrome 62.0                    7182\n",
            "chrome 65.0                    6871\n",
            "chrome 64.0                    6711\n",
            "chrome 63.0 for android        5806\n",
            "chrome generic                 4778\n",
            "chrome 66.0                    4264\n",
            "edge 16.0                      4188\n",
            "chrome 64.0 for android        3473\n",
            "chrome 65.0 for android        3336\n",
            "firefox 57.0                   3315\n",
            "mobile safari 10.0             2779\n",
            "chrome 66.0 for android        2349\n",
            "chrome 62.0 for android        2097\n",
            "edge 15.0                      1600\n",
            "chrome generic for android     1158\n",
            "firefox 59.0                   1099\n",
            "samsung browser 6.2            1061\n",
            "firefox 58.0                    833\n",
            "chrome 49.0                     719\n",
            "firefox                         673\n",
            "ie 11.0 for tablet              647\n",
            "chrome 61.0                     642\n",
            "safari 11.0                     550\n",
            "mobile safari 9.0               541\n",
            "chrome 61.0 for android         538\n",
            "                              ...  \n",
            "safari                           14\n",
            "mobile                           11\n",
            "ZTE/Blade                         9\n",
            "samsung browser 3.3               8\n",
            "line                              6\n",
            "comodo                            6\n",
            "maxthon                           6\n",
            "icedragon                         5\n",
            "aol                               5\n",
            "Mozilla/Firefox                   5\n",
            "Lanix/Ilium                       3\n",
            "waterfox                          2\n",
            "facebook                          2\n",
            "palemoon                          2\n",
            "puffin                            2\n",
            "seamonkey                         1\n",
            "M4Tel/M4                          1\n",
            "chromium                          1\n",
            "LG/K-200                          1\n",
            "cyberfox                          1\n",
            "Inco/Minion                       1\n",
            "iron                              1\n",
            "Cherry                            1\n",
            "Nokia/Lumia                       1\n",
            "android                           1\n",
            "BLU/Dash                          1\n",
            "Samsung/SCH                       1\n",
            "chrome 67.0 for android           1\n",
            "firefox mobile 61.0               1\n",
            "chrome 69.0                       1\n",
            "Name: id_31, Length: 130, dtype: int64\n",
            "id_31 class 개수: 103\n",
            "----------------------------------------------------\n",
            "\n",
            "\n",
            "[id_33]\n",
            "1920x1080    16874\n",
            "1366x768      8605\n",
            "1334x750      6447\n",
            "2208x1242     4900\n",
            "1440x900      4384\n",
            "1600x900      3510\n",
            "2048x1536     3482\n",
            "1280x800      2149\n",
            "2560x1600     2093\n",
            "2560x1440     1865\n",
            "2880x1800     1756\n",
            "1280x1024     1743\n",
            "1680x1050     1727\n",
            "1136x640      1712\n",
            "2436x1125     1484\n",
            "1280x720      1318\n",
            "1920x1200     1056\n",
            "2001x1125     1020\n",
            "1024x768       824\n",
            "2220x1080      544\n",
            "5120x2880      397\n",
            "3360x2100      380\n",
            "2732x2048      354\n",
            "1366x767       335\n",
            "3840x2160      263\n",
            "855x480        250\n",
            "2736x1824      241\n",
            "1360x768       224\n",
            "4096x2304      208\n",
            "2224x1668      194\n",
            "             ...  \n",
            "2368x1440        1\n",
            "2160x1081        1\n",
            "1912x1025        1\n",
            "1272x960         1\n",
            "1536x1152        1\n",
            "1700x960         1\n",
            "1596x710         1\n",
            "1536x960         1\n",
            "2255x1503        1\n",
            "1920x1279        1\n",
            "1280x900         1\n",
            "5040x3150        1\n",
            "1496x844         1\n",
            "1366x1024        1\n",
            "6720x3780        1\n",
            "4499x2999        1\n",
            "1422x889         1\n",
            "1920x1018        1\n",
            "2710x1440        1\n",
            "7500x5000        1\n",
            "2048x1080        1\n",
            "480x320          1\n",
            "2552x1337        1\n",
            "1408x792         1\n",
            "1138x640         1\n",
            "2160x1350        1\n",
            "3360x1050        1\n",
            "3001x2000        1\n",
            "3696x2310        1\n",
            "2736x1823        1\n",
            "Name: id_33, Length: 260, dtype: int64\n",
            "id_33 class 개수: 74\n",
            "----------------------------------------------------\n",
            "\n",
            "\n",
            "[id_34]\n",
            "match_status:2     60011\n",
            "match_status:1     17376\n",
            "match_status:0       415\n",
            "match_status:-1        3\n",
            "Name: id_34, dtype: int64\n",
            "id_34 class 개수: 4\n",
            "----------------------------------------------------\n",
            "\n",
            "\n",
            "[id_35]\n",
            "T    77814\n",
            "F    63171\n",
            "Name: id_35, dtype: int64\n",
            "id_35 class 개수: 2\n",
            "----------------------------------------------------\n",
            "\n",
            "\n",
            "[id_36]\n",
            "F    134066\n",
            "T      6919\n",
            "Name: id_36, dtype: int64\n",
            "id_36 class 개수: 2\n",
            "----------------------------------------------------\n",
            "\n",
            "\n",
            "[id_37]\n",
            "T    110452\n",
            "F     30533\n",
            "Name: id_37, dtype: int64\n",
            "id_37 class 개수: 2\n",
            "----------------------------------------------------\n",
            "\n",
            "\n",
            "[id_38]\n",
            "F    73922\n",
            "T    67063\n",
            "Name: id_38, dtype: int64\n",
            "id_38 class 개수: 2\n",
            "----------------------------------------------------\n",
            "\n",
            "\n",
            "[DeviceType]\n",
            "desktop    85165\n",
            "mobile     55645\n",
            "Name: DeviceType, dtype: int64\n",
            "DeviceType class 개수: 2\n",
            "----------------------------------------------------\n",
            "\n",
            "\n",
            "[DeviceInfo]\n",
            "Windows                               47722\n",
            "iOS Device                            19782\n",
            "MacOS                                 12573\n",
            "Trident/7.0                            7440\n",
            "rv:11.0                                1901\n",
            "rv:57.0                                 962\n",
            "SM-J700M Build/MMB29K                   549\n",
            "SM-G610M Build/MMB29K                   461\n",
            "SM-G531H Build/LMY48B                   410\n",
            "rv:59.0                                 362\n",
            "SM-G935F Build/NRD90M                   334\n",
            "SM-G955U Build/NRD90M                   328\n",
            "SM-G532M Build/MMB29T                   316\n",
            "ALE-L23 Build/HuaweiALE-L23             312\n",
            "SM-G950U Build/NRD90M                   290\n",
            "SM-G930V Build/NRD90M                   274\n",
            "rv:58.0                                 269\n",
            "rv:52.0                                 256\n",
            "SAMSUNG                                 235\n",
            "SM-G950F Build/NRD90M                   225\n",
            "Moto G (4) Build/NPJ25.93-14.7          219\n",
            "SM-N950U Build/NMF26X                   209\n",
            "SM-A300H Build/LRX22G                   203\n",
            "hi6210sft Build/MRA58K                  190\n",
            "SM-J730GM Build/NRD90M                  184\n",
            "SM-G570M Build/MMB29K                   182\n",
            "rv:48.0                                 178\n",
            "CAM-L03 Build/HUAWEICAM-L03             172\n",
            "SM-J320M Build/LMY47V                   171\n",
            "LG-M700 Build/NMF26X                    169\n",
            "                                      ...  \n",
            "SM-J120M                                  1\n",
            "A9                                        1\n",
            "HTC U11 Build/OPR6.170623.013             1\n",
            "rv:29.0                                   1\n",
            "SLAY                                      1\n",
            "D6603                                     1\n",
            "SM-S550TL                                 1\n",
            "HUAWEI LYO-L21 Build/HUAWEILYO-L21        1\n",
            "BV6000                                    1\n",
            "LG-H810/H81021z                           1\n",
            "SM-A520F Build/R16NW                      1\n",
            "HTC_One_M8s/2.12.111.1                    1\n",
            "iris80                                    1\n",
            "Moto G Play Build/NJH47F                  1\n",
            "SM-G530T1                                 1\n",
            "SM-G935V                                  1\n",
            "ORION                                     1\n",
            "A621R                                     1\n",
            "SPH-L720T                                 1\n",
            "LG-LG870                                  1\n",
            "SM-J330F                                  1\n",
            "XT1580 Build/NPKS25.200-12-9              1\n",
            "LG-M255                                   1\n",
            "LGL57BL                                   1\n",
            "Robin                                     1\n",
            "GT-S7275B                                 1\n",
            "SM-T330                                   1\n",
            "Neffos X1 Max Build/NRD90M                1\n",
            "LG-D373                                   1\n",
            "verykools5035                             1\n",
            "Name: DeviceInfo, Length: 1786, dtype: int64\n",
            "DeviceInfo class 개수: 141\n",
            "----------------------------------------------------\n",
            "\n"
          ],
          "name": "stdout"
        }
      ]
    },
    {
      "cell_type": "markdown",
      "metadata": {
        "id": "vA0kLJI26JzJ",
        "colab_type": "text"
      },
      "source": [
        "위의 결과는 object 타입의 컬럼들을 대상으로 value_counts() 시킨 결과이다.\n",
        "\n",
        "위의 결과를 보면 라벨 인코딩하기에 많은 클래스 수를 갖는 컬럼들이 존재한다. 클래스의 개수를 줄일 필요가 있다.\n",
        "\n",
        "- P_emaildomain(56종류)\n",
        "- R_emaildomain(55종류)\n",
        "- id_30 (72종류)\n",
        "- id_31 (103종류)\n",
        "- id_33 (74종류)\n",
        "- DeviceInfo(141종류)\n"
      ]
    },
    {
      "cell_type": "markdown",
      "metadata": {
        "id": "dHwXtOva6qkW",
        "colab_type": "text"
      },
      "source": [
        "# (1) P_emaildomain"
      ]
    },
    {
      "cell_type": "code",
      "metadata": {
        "id": "z4P3F2KhHWpU",
        "colab_type": "code",
        "outputId": "9fe95299-2cf5-45ca-8f4a-c9e99ec102a1",
        "colab": {
          "base_uri": "https://localhost:8080/",
          "height": 71
        }
      },
      "source": [
        "# gmail\n",
        "train_merged.loc[ train_merged['P_emaildomain'].str.contains('gmail', na=False)]['P_emaildomain'].value_counts()"
      ],
      "execution_count": 0,
      "outputs": [
        {
          "output_type": "execute_result",
          "data": {
            "text/plain": [
              "gmail.com    228355\n",
              "gmail           496\n",
              "Name: P_emaildomain, dtype: int64"
            ]
          },
          "metadata": {
            "tags": []
          },
          "execution_count": 15
        }
      ]
    },
    {
      "cell_type": "code",
      "metadata": {
        "id": "hKQS_rqKGls3",
        "colab_type": "code",
        "outputId": "a331f0fa-5e74-480c-c680-286c15142d7f",
        "colab": {
          "base_uri": "https://localhost:8080/",
          "height": 161
        }
      },
      "source": [
        "# yahoo\n",
        "train_merged.loc[ train_merged['P_emaildomain'].str.contains('yahoo', na=False)]['P_emaildomain'].value_counts()"
      ],
      "execution_count": 0,
      "outputs": [
        {
          "output_type": "execute_result",
          "data": {
            "text/plain": [
              "yahoo.com       100934\n",
              "yahoo.com.mx      1543\n",
              "yahoo.fr           143\n",
              "yahoo.es           134\n",
              "yahoo.de            74\n",
              "yahoo.co.uk         49\n",
              "yahoo.co.jp         32\n",
              "Name: P_emaildomain, dtype: int64"
            ]
          },
          "metadata": {
            "tags": []
          },
          "execution_count": 16
        }
      ]
    },
    {
      "cell_type": "code",
      "metadata": {
        "id": "mJYLB8g1QDEn",
        "colab_type": "code",
        "outputId": "2b585153-1afc-4c1d-86b6-b48fee8b2d07",
        "colab": {
          "base_uri": "https://localhost:8080/",
          "height": 71
        }
      },
      "source": [
        "# outlook\n",
        "train_merged.loc[train_merged['P_emaildomain'].str.contains('outlook',na=False), 'P_emaildomain'].value_counts()"
      ],
      "execution_count": 0,
      "outputs": [
        {
          "output_type": "execute_result",
          "data": {
            "text/plain": [
              "outlook.com    5096\n",
              "outlook.es      438\n",
              "Name: P_emaildomain, dtype: int64"
            ]
          },
          "metadata": {
            "tags": []
          },
          "execution_count": 17
        }
      ]
    },
    {
      "cell_type": "code",
      "metadata": {
        "id": "bNyeNJZSQ5ss",
        "colab_type": "code",
        "outputId": "6c002049-0c51-46d7-e2a1-aeaf25611704",
        "colab": {
          "base_uri": "https://localhost:8080/",
          "height": 125
        }
      },
      "source": [
        "# hotmail\n",
        "train_merged.loc[train_merged['P_emaildomain'].str.contains('hotmail',na=False), 'P_emaildomain'].value_counts()"
      ],
      "execution_count": 0,
      "outputs": [
        {
          "output_type": "execute_result",
          "data": {
            "text/plain": [
              "hotmail.com      45250\n",
              "hotmail.es         305\n",
              "hotmail.fr         295\n",
              "hotmail.co.uk      112\n",
              "hotmail.de          43\n",
              "Name: P_emaildomain, dtype: int64"
            ]
          },
          "metadata": {
            "tags": []
          },
          "execution_count": 18
        }
      ]
    },
    {
      "cell_type": "code",
      "metadata": {
        "id": "Lwo6Npa2Sjrm",
        "colab_type": "code",
        "outputId": "1286c307-42e6-4ab7-c2b6-d7ebce0a5a6d",
        "colab": {
          "base_uri": "https://localhost:8080/",
          "height": 89
        }
      },
      "source": [
        "# live\n",
        "train_merged.loc[train_merged['P_emaildomain'].str.contains('live',na=False), 'P_emaildomain'].value_counts()\n"
      ],
      "execution_count": 0,
      "outputs": [
        {
          "output_type": "execute_result",
          "data": {
            "text/plain": [
              "live.com       3041\n",
              "live.com.mx     749\n",
              "live.fr          56\n",
              "Name: P_emaildomain, dtype: int64"
            ]
          },
          "metadata": {
            "tags": []
          },
          "execution_count": 19
        }
      ]
    },
    {
      "cell_type": "code",
      "metadata": {
        "id": "04WD5lRJTOxX",
        "colab_type": "code",
        "outputId": "c4d6da7d-1e1a-4323-940a-e3c2b62aba25",
        "colab": {
          "base_uri": "https://localhost:8080/",
          "height": 1000
        }
      },
      "source": [
        "# P_emaildomain의 클래스 중 데이터의 개수가 200개\n",
        "# nunique() 는 컬럼에 속하는 클래스의 개수를 카운트할 때 사용..\n",
        "train_merged.loc [ train_merged['P_emaildomain'].isin(\n",
        "    train_merged.P_emaildomain.value_counts()[\n",
        "        train_merged.P_emaildomain.value_counts()<=200].index), 'P_emaildomain' ]"
      ],
      "execution_count": 0,
      "outputs": [
        {
          "output_type": "execute_result",
          "data": {
            "text/plain": [
              "549                  q.com\n",
              "641       servicios-ta.com\n",
              "676                  q.com\n",
              "879             cfl.rr.com\n",
              "2273           netzero.net\n",
              "2555                gmx.de\n",
              "2614        suddenlink.net\n",
              "2637        suddenlink.net\n",
              "2768       frontiernet.net\n",
              "3043       frontiernet.net\n",
              "3574        suddenlink.net\n",
              "8029       frontiernet.net\n",
              "8056       frontiernet.net\n",
              "8123       frontiernet.net\n",
              "8336          cableone.net\n",
              "8456          cableone.net\n",
              "8468                gmx.de\n",
              "8747              yahoo.fr\n",
              "8832              yahoo.de\n",
              "9634            cfl.rr.com\n",
              "9972              yahoo.es\n",
              "10522       suddenlink.net\n",
              "10569      frontiernet.net\n",
              "10740           cfl.rr.com\n",
              "11124     servicios-ta.com\n",
              "11139     servicios-ta.com\n",
              "11144     servicios-ta.com\n",
              "11153      frontiernet.net\n",
              "11338      frontiernet.net\n",
              "11434      frontiernet.net\n",
              "                ...       \n",
              "586616               q.com\n",
              "586942          cfl.rr.com\n",
              "587182       hotmail.co.uk\n",
              "587321     frontiernet.net\n",
              "587354           sc.rr.com\n",
              "587378     frontiernet.net\n",
              "587757            yahoo.es\n",
              "587763            yahoo.es\n",
              "587847          cfl.rr.com\n",
              "587859         netzero.net\n",
              "588341     frontiernet.net\n",
              "588391     frontiernet.net\n",
              "588710      suddenlink.net\n",
              "588735            yahoo.fr\n",
              "588749            yahoo.fr\n",
              "588751            yahoo.fr\n",
              "588757            yahoo.fr\n",
              "588764            yahoo.fr\n",
              "588818            yahoo.fr\n",
              "588821            yahoo.fr\n",
              "588976            yahoo.fr\n",
              "589116      suddenlink.net\n",
              "589152           sc.rr.com\n",
              "589191      suddenlink.net\n",
              "589320     frontiernet.net\n",
              "589824            yahoo.fr\n",
              "589989            yahoo.fr\n",
              "590097            yahoo.fr\n",
              "590180            yahoo.es\n",
              "590521            yahoo.fr\n",
              "Name: P_emaildomain, Length: 2221, dtype: object"
            ]
          },
          "metadata": {
            "tags": []
          },
          "execution_count": 20
        }
      ]
    },
    {
      "cell_type": "markdown",
      "metadata": {
        "id": "0ka3gpDfosUi",
        "colab_type": "text"
      },
      "source": [
        "# (2) R_emaildomain\n"
      ]
    },
    {
      "cell_type": "code",
      "metadata": {
        "id": "gynC1grmoyKw",
        "colab_type": "code",
        "outputId": "67fe72d8-6663-4fdf-9b4c-c4caad6da964",
        "colab": {
          "base_uri": "https://localhost:8080/",
          "height": 161
        }
      },
      "source": [
        "# yahoo\n",
        "train_merged.loc[train_merged['R_emaildomain'].str.contains('yahoo', na=False), 'R_emaildomain'].value_counts()"
      ],
      "execution_count": 0,
      "outputs": [
        {
          "output_type": "execute_result",
          "data": {
            "text/plain": [
              "yahoo.com       11842\n",
              "yahoo.com.mx     1508\n",
              "yahoo.fr          137\n",
              "yahoo.de           75\n",
              "yahoo.es           57\n",
              "yahoo.co.uk        39\n",
              "yahoo.co.jp        33\n",
              "Name: R_emaildomain, dtype: int64"
            ]
          },
          "metadata": {
            "tags": []
          },
          "execution_count": 21
        }
      ]
    },
    {
      "cell_type": "code",
      "metadata": {
        "id": "0bNroAIIs-9W",
        "colab_type": "code",
        "outputId": "29aa4509-cad8-47ac-e279-7ca4e0db2ae3",
        "colab": {
          "base_uri": "https://localhost:8080/",
          "height": 125
        }
      },
      "source": [
        "# hotmail\n",
        "train_merged.loc[train_merged['R_emaildomain'].str.contains('hotmail', na=False), 'R_emaildomain'].value_counts()"
      ],
      "execution_count": 0,
      "outputs": [
        {
          "output_type": "execute_result",
          "data": {
            "text/plain": [
              "hotmail.com      27509\n",
              "hotmail.fr         293\n",
              "hotmail.es         292\n",
              "hotmail.co.uk      105\n",
              "hotmail.de          42\n",
              "Name: R_emaildomain, dtype: int64"
            ]
          },
          "metadata": {
            "tags": []
          },
          "execution_count": 22
        }
      ]
    },
    {
      "cell_type": "code",
      "metadata": {
        "id": "rwWv5tKAtffr",
        "colab_type": "code",
        "outputId": "d914a83f-0eb1-4700-d504-b35c72ae2cdc",
        "colab": {
          "base_uri": "https://localhost:8080/",
          "height": 89
        }
      },
      "source": [
        "# live\n",
        "train_merged.loc[ train_merged['R_emaildomain'].str.contains('live', na=False), 'R_emaildomain'].value_counts()"
      ],
      "execution_count": 0,
      "outputs": [
        {
          "output_type": "execute_result",
          "data": {
            "text/plain": [
              "live.com       762\n",
              "live.com.mx    754\n",
              "live.fr         55\n",
              "Name: R_emaildomain, dtype: int64"
            ]
          },
          "metadata": {
            "tags": []
          },
          "execution_count": 23
        }
      ]
    },
    {
      "cell_type": "code",
      "metadata": {
        "id": "ijyAZWtYuDGP",
        "colab_type": "code",
        "outputId": "36073f77-80c1-4605-fe11-9b9da6fb71ee",
        "colab": {
          "base_uri": "https://localhost:8080/",
          "height": 71
        }
      },
      "source": [
        "# outlook\n",
        "train_merged.loc[ train_merged['R_emaildomain'].str.contains('outlook', na=False), 'R_emaildomain'].value_counts()"
      ],
      "execution_count": 0,
      "outputs": [
        {
          "output_type": "execute_result",
          "data": {
            "text/plain": [
              "outlook.com    2507\n",
              "outlook.es      433\n",
              "Name: R_emaildomain, dtype: int64"
            ]
          },
          "metadata": {
            "tags": []
          },
          "execution_count": 24
        }
      ]
    },
    {
      "cell_type": "markdown",
      "metadata": {
        "id": "qFIQRpH3wXu3",
        "colab_type": "text"
      },
      "source": [
        "# (3) id_30\n",
        "\n",
        "위의 코드 결과를 보면, 이 컬럼에 존재하는 클래스들은 운영체제(OS) 종류를 나타낸다.\n",
        "\n",
        "주로 많이 보이는 클래스 iOS, Android, Linux, Mac, Windows 로 보인다.\n",
        "\n",
        "72개의 클래스 종류가 있으나 일부가 가려져있어서 보기가 어렵다.\n",
        "\n",
        "(1) 잘보이는 클래스를 대상으로 그룹핑을 한다.\n",
        "\n",
        "- ex. Mac OS X 10_12_4 , Mac Os X 10.9, ... ==> Mac OS X \n",
        "- ex. Windows XP, Windows 7, ...  ==> Windows\n",
        "\n",
        "\n",
        "일단 아래 먼저 5개의 운영체제를 하나의 그룹으로 다시 묶는다.\n",
        "\n",
        "- iOS\n",
        "- Android\n",
        "- Linux\n",
        "- Mac OS X\n",
        "- Windows\n"
      ]
    },
    {
      "cell_type": "code",
      "metadata": {
        "id": "YKgq7z7Zwj2A",
        "colab_type": "code",
        "outputId": "1991a8ae-b261-4657-8cbf-648f5f5c3758",
        "colab": {
          "base_uri": "https://localhost:8080/",
          "height": 953
        }
      },
      "source": [
        "# (1) iOS 그룹핑\n",
        "train_merged.loc[ train_merged['id_30'].str.contains('iOS', na=False), 'id_30']='iOS'\n",
        "train_merged.id_30.value_counts()"
      ],
      "execution_count": 0,
      "outputs": [
        {
          "output_type": "execute_result",
          "data": {
            "text/plain": [
              "Windows 10          21155\n",
              "iOS                 19782\n",
              "Windows 7           13110\n",
              "Android 7.0          2871\n",
              "Mac OS X 10_12_6     2559\n",
              "Mac OS X 10_11_6     2348\n",
              "Windows 8.1          1914\n",
              "Mac OS X 10_10_5     1651\n",
              "Mac OS X 10_13_2     1421\n",
              "Mac OS X 10_13_1     1211\n",
              "Linux                1136\n",
              "Android              1079\n",
              "Mac OS X 10_13_3      860\n",
              "Mac OS X 10_13_4      759\n",
              "Android 7.1.1         630\n",
              "Mac OS X 10_9_5       570\n",
              "Android 6.0.1         566\n",
              "Android 5.1.1         350\n",
              "Android 8.0.0         343\n",
              "Mac                   303\n",
              "Mac OS X 10.13        287\n",
              "Windows Vista         246\n",
              "Mac OS X 10.12        218\n",
              "Mac OS X 10_12_5      217\n",
              "Mac OS X 10.11        200\n",
              "Android 8.1.0         192\n",
              "Windows 8             180\n",
              "Mac OS X 10.10        135\n",
              "Windows XP            131\n",
              "Mac OS X 10_12_4      103\n",
              "Mac OS X 10_12_3       95\n",
              "Mac OS X 10_7_5        93\n",
              "Mac OS X 10_11_5       82\n",
              "Android 6.0            80\n",
              "Mac OS X 10_8_5        74\n",
              "Android 4.4.2          63\n",
              "Mac OS X 10.9          58\n",
              "Android 5.0.2          55\n",
              "Mac OS X 10_11_3       54\n",
              "Mac OS X 10_11_4       53\n",
              "Mac OS X 10_6_8        50\n",
              "Mac OS X 10_12         49\n",
              "Mac OS X 10.6          49\n",
              "Mac OS X 10_12_1       44\n",
              "Android 5.0            41\n",
              "Android 7.1.2          33\n",
              "Mac OS X 10_12_2       33\n",
              "other                  15\n",
              "func                   10\n",
              "Mac OS X 10_13_5        4\n",
              "Windows                 3\n",
              "Name: id_30, dtype: int64"
            ]
          },
          "metadata": {
            "tags": []
          },
          "execution_count": 25
        }
      ]
    },
    {
      "cell_type": "code",
      "metadata": {
        "id": "jofjp0KB4pIV",
        "colab_type": "code",
        "outputId": "b748a292-f427-491f-9ce8-33bceb304444",
        "colab": {
          "base_uri": "https://localhost:8080/",
          "height": 467
        }
      },
      "source": [
        "# (2) Mac/ Mac OS X => Mac으로  그룹핑\n",
        "train_merged.loc[ train_merged['id_30'].str.contains('Mac', na=False), 'id_30']='Mac'\n",
        "train_merged['id_30'].value_counts()"
      ],
      "execution_count": 0,
      "outputs": [
        {
          "output_type": "execute_result",
          "data": {
            "text/plain": [
              "Windows 10       21155\n",
              "iOS              19782\n",
              "Mac              13580\n",
              "Windows 7        13110\n",
              "Android 7.0       2871\n",
              "Windows 8.1       1914\n",
              "Linux             1136\n",
              "Android           1079\n",
              "Android 7.1.1      630\n",
              "Android 6.0.1      566\n",
              "Android 5.1.1      350\n",
              "Android 8.0.0      343\n",
              "Windows Vista      246\n",
              "Android 8.1.0      192\n",
              "Windows 8          180\n",
              "Windows XP         131\n",
              "Android 6.0         80\n",
              "Android 4.4.2       63\n",
              "Android 5.0.2       55\n",
              "Android 5.0         41\n",
              "Android 7.1.2       33\n",
              "other               15\n",
              "func                10\n",
              "Windows              3\n",
              "Name: id_30, dtype: int64"
            ]
          },
          "metadata": {
            "tags": []
          },
          "execution_count": 26
        }
      ]
    },
    {
      "cell_type": "code",
      "metadata": {
        "id": "X2xmHsR46hkT",
        "colab_type": "code",
        "outputId": "1d077349-27d3-4799-eab2-4d544ffa51a4",
        "colab": {
          "base_uri": "https://localhost:8080/",
          "height": 269
        }
      },
      "source": [
        "# (3) Android 그룹핑\n",
        "train_merged.loc[ train_merged['id_30'].str.contains('Android', na=False), 'id_30']='Android'\n",
        "train_merged['id_30'].value_counts()"
      ],
      "execution_count": 0,
      "outputs": [
        {
          "output_type": "execute_result",
          "data": {
            "text/plain": [
              "Windows 10       21155\n",
              "iOS              19782\n",
              "Mac              13580\n",
              "Windows 7        13110\n",
              "Android           6303\n",
              "Windows 8.1       1914\n",
              "Linux             1136\n",
              "Windows Vista      246\n",
              "Windows 8          180\n",
              "Windows XP         131\n",
              "other               15\n",
              "func                10\n",
              "Windows              3\n",
              "Name: id_30, dtype: int64"
            ]
          },
          "metadata": {
            "tags": []
          },
          "execution_count": 27
        }
      ]
    },
    {
      "cell_type": "code",
      "metadata": {
        "id": "xkrMhGn_65Ya",
        "colab_type": "code",
        "outputId": "0ecb71ec-cb6d-4eb6-bac1-b989ea45f137",
        "colab": {
          "base_uri": "https://localhost:8080/",
          "height": 161
        }
      },
      "source": [
        "# (4) Windows 그룹핑\n",
        "train_merged.loc[ train_merged['id_30'].str.contains('Windows', na=False), 'id_30']='Windows'\n",
        "train_merged['id_30'].value_counts()"
      ],
      "execution_count": 0,
      "outputs": [
        {
          "output_type": "execute_result",
          "data": {
            "text/plain": [
              "Windows    36739\n",
              "iOS        19782\n",
              "Mac        13580\n",
              "Android     6303\n",
              "Linux       1136\n",
              "other         15\n",
              "func          10\n",
              "Name: id_30, dtype: int64"
            ]
          },
          "metadata": {
            "tags": []
          },
          "execution_count": 28
        }
      ]
    },
    {
      "cell_type": "markdown",
      "metadata": {
        "id": "8nlzglWowqnh",
        "colab_type": "text"
      },
      "source": [
        "# (4) id_31\n",
        "\n",
        "id_31은 인터넷 브라우저에 대한 정보를 나타낸다.\n",
        "\n",
        "103개의 클래스가 있다. \n",
        "\n",
        "제일 많이 보이는 인터넷 브라우저 이름은 아래의 4개이다.\n",
        "\n",
        "먼저 아래의 4개를 하나로 통합시켜본다.\n",
        "\n",
        "- chrome\n",
        "- safari\n",
        "- firefox\n",
        "- Samsung(samsung)"
      ]
    },
    {
      "cell_type": "code",
      "metadata": {
        "id": "mpW1xMFiwtsF",
        "colab_type": "code",
        "outputId": "d7eb682c-460d-4055-fcb6-e8164a25e24b",
        "colab": {
          "base_uri": "https://localhost:8080/",
          "height": 845
        }
      },
      "source": [
        "# (1) chrome 그룹핑\n",
        "train_merged.loc[ train_merged['id_31'].str.contains('chrome', na=False), 'id_31'].value_counts()"
      ],
      "execution_count": 0,
      "outputs": [
        {
          "output_type": "execute_result",
          "data": {
            "text/plain": [
              "chrome 63.0                   22000\n",
              "chrome 62.0                    7182\n",
              "chrome 65.0                    6871\n",
              "chrome 64.0                    6711\n",
              "chrome 63.0 for android        5806\n",
              "chrome generic                 4778\n",
              "chrome 66.0                    4264\n",
              "chrome 64.0 for android        3473\n",
              "chrome 65.0 for android        3336\n",
              "chrome 66.0 for android        2349\n",
              "chrome 62.0 for android        2097\n",
              "chrome generic for android     1158\n",
              "chrome 49.0                     719\n",
              "chrome 61.0                     642\n",
              "chrome 61.0 for android         538\n",
              "chrome                          428\n",
              "chrome 60.0                     371\n",
              "chrome 60.0 for android         325\n",
              "chrome 55.0 for android         302\n",
              "chrome 58.0 for android         262\n",
              "chrome 56.0 for android         238\n",
              "chrome 59.0 for android         227\n",
              "chrome 63.0 for ios             222\n",
              "chrome 58.0                     188\n",
              "chrome 66.0 for ios             159\n",
              "chrome 52.0 for android         152\n",
              "chrome 50.0 for android         145\n",
              "chrome 59.0                     133\n",
              "chrome 56.0                      98\n",
              "chrome 57.0                      94\n",
              "chrome 57.0 for android          87\n",
              "chrome 54.0 for android          82\n",
              "chrome 65.0 for ios              79\n",
              "chrome 43.0 for android          72\n",
              "chrome 46.0 for android          69\n",
              "chrome 55.0                      64\n",
              "chrome 62.0 for ios              61\n",
              "chrome 51.0                      56\n",
              "chrome 49.0 for android          53\n",
              "chrome 64.0 for ios              46\n",
              "chrome 51.0 for android          45\n",
              "chrome 53.0 for android          42\n",
              "chrome 67.0                      33\n",
              "chrome 67.0 for android           1\n",
              "chrome 69.0                       1\n",
              "Name: id_31, dtype: int64"
            ]
          },
          "metadata": {
            "tags": []
          },
          "execution_count": 29
        }
      ]
    },
    {
      "cell_type": "code",
      "metadata": {
        "id": "-myKqOMula9A",
        "colab_type": "code",
        "outputId": "4cadeaf1-0e4d-4f53-a071-5d5c29c74104",
        "colab": {
          "base_uri": "https://localhost:8080/",
          "height": 1000
        }
      },
      "source": [
        "train_merged.loc[ train_merged['id_31'].str.contains('chrome', na=False), 'id_31']= 'Chrome'\n",
        "# google, google search application, chromium\n",
        "train_merged.loc[ train_merged['id_31'].isin(['google','google search application 48.0', \n",
        "                                              'google search application 49.0','chromium', 'Google']), 'id_31']='Chrome'\n",
        "train_merged['id_31'].value_counts()"
      ],
      "execution_count": 0,
      "outputs": [
        {
          "output_type": "execute_result",
          "data": {
            "text/plain": [
              "Chrome                     76206\n",
              "mobile safari 11.0         13423\n",
              "mobile safari generic      11474\n",
              "ie 11.0 for desktop         9030\n",
              "safari generic              8195\n",
              "edge 16.0                   4188\n",
              "firefox 57.0                3315\n",
              "mobile safari 10.0          2779\n",
              "edge 15.0                   1600\n",
              "firefox 59.0                1099\n",
              "samsung browser 6.2         1061\n",
              "firefox 58.0                 833\n",
              "firefox                      673\n",
              "ie 11.0 for tablet           647\n",
              "safari 11.0                  550\n",
              "mobile safari 9.0            541\n",
              "samsung browser 6.4          509\n",
              "edge 14.0                    419\n",
              "firefox 52.0                 394\n",
              "other                        312\n",
              "android webview 4.0          285\n",
              "firefox 60.0                 225\n",
              "samsung browser generic      210\n",
              "firefox 48.0                 179\n",
              "Samsung/SM-G532M             150\n",
              "opera 49.0                   138\n",
              "firefox 56.0                 126\n",
              "safari 10.0                  111\n",
              "firefox generic              110\n",
              "samsung browser 7.0          101\n",
              "                           ...  \n",
              "silk                          19\n",
              "samsung browser 4.2           18\n",
              "samsung                       16\n",
              "safari                        14\n",
              "mobile                        11\n",
              "ZTE/Blade                      9\n",
              "samsung browser 3.3            8\n",
              "line                           6\n",
              "maxthon                        6\n",
              "comodo                         6\n",
              "aol                            5\n",
              "Mozilla/Firefox                5\n",
              "icedragon                      5\n",
              "Lanix/Ilium                    3\n",
              "palemoon                       2\n",
              "puffin                         2\n",
              "waterfox                       2\n",
              "facebook                       2\n",
              "cyberfox                       1\n",
              "firefox mobile 61.0            1\n",
              "seamonkey                      1\n",
              "iron                           1\n",
              "Cherry                         1\n",
              "BLU/Dash                       1\n",
              "Nokia/Lumia                    1\n",
              "M4Tel/M4                       1\n",
              "Inco/Minion                    1\n",
              "android                        1\n",
              "LG/K-200                       1\n",
              "Samsung/SCH                    1\n",
              "Name: id_31, Length: 82, dtype: int64"
            ]
          },
          "metadata": {
            "tags": []
          },
          "execution_count": 30
        }
      ]
    },
    {
      "cell_type": "code",
      "metadata": {
        "id": "B1JKtOD7mMNI",
        "colab_type": "code",
        "outputId": "cb1d6133-4985-4aa9-f70b-56ad1087de38",
        "colab": {
          "base_uri": "https://localhost:8080/",
          "height": 1000
        }
      },
      "source": [
        "# (2) safari\n",
        "train_merged.loc[ train_merged['id_31'].str.contains('safari', na=False), 'id_31']='Safari'\n",
        "train_merged['id_31'].value_counts()"
      ],
      "execution_count": 0,
      "outputs": [
        {
          "output_type": "execute_result",
          "data": {
            "text/plain": [
              "Chrome                     76206\n",
              "Safari                     37281\n",
              "ie 11.0 for desktop         9030\n",
              "edge 16.0                   4188\n",
              "firefox 57.0                3315\n",
              "edge 15.0                   1600\n",
              "firefox 59.0                1099\n",
              "samsung browser 6.2         1061\n",
              "firefox 58.0                 833\n",
              "firefox                      673\n",
              "ie 11.0 for tablet           647\n",
              "samsung browser 6.4          509\n",
              "edge 14.0                    419\n",
              "firefox 52.0                 394\n",
              "other                        312\n",
              "android webview 4.0          285\n",
              "firefox 60.0                 225\n",
              "samsung browser generic      210\n",
              "firefox 48.0                 179\n",
              "Samsung/SM-G532M             150\n",
              "opera 49.0                   138\n",
              "firefox 56.0                 126\n",
              "firefox generic              110\n",
              "samsung browser 7.0          101\n",
              "android browser 4.0          100\n",
              "opera                         83\n",
              "Generic/Android 7.0           81\n",
              "opera generic                 78\n",
              "edge 17.0                     74\n",
              "edge 13.0                     62\n",
              "                           ...  \n",
              "firefox 55.0                  20\n",
              "silk                          19\n",
              "samsung browser 4.2           18\n",
              "samsung                       16\n",
              "mobile                        11\n",
              "ZTE/Blade                      9\n",
              "samsung browser 3.3            8\n",
              "comodo                         6\n",
              "maxthon                        6\n",
              "line                           6\n",
              "icedragon                      5\n",
              "aol                            5\n",
              "Mozilla/Firefox                5\n",
              "Lanix/Ilium                    3\n",
              "puffin                         2\n",
              "waterfox                       2\n",
              "palemoon                       2\n",
              "facebook                       2\n",
              "seamonkey                      1\n",
              "M4Tel/M4                       1\n",
              "firefox mobile 61.0            1\n",
              "android                        1\n",
              "iron                           1\n",
              "Samsung/SCH                    1\n",
              "BLU/Dash                       1\n",
              "Cherry                         1\n",
              "LG/K-200                       1\n",
              "Inco/Minion                    1\n",
              "cyberfox                       1\n",
              "Nokia/Lumia                    1\n",
              "Name: id_31, Length: 72, dtype: int64"
            ]
          },
          "metadata": {
            "tags": []
          },
          "execution_count": 31
        }
      ]
    },
    {
      "cell_type": "code",
      "metadata": {
        "id": "rbxk_pWToWUa",
        "colab_type": "code",
        "outputId": "01db22f8-fa48-467d-e916-d450ec4ed416",
        "colab": {
          "base_uri": "https://localhost:8080/",
          "height": 1000
        }
      },
      "source": [
        "# (3) opera\n",
        "train_merged.loc[ train_merged['id_31'].str.contains('opera', na=False), 'id_31']='Opera'\n",
        "train_merged['id_31'].value_counts()"
      ],
      "execution_count": 0,
      "outputs": [
        {
          "output_type": "execute_result",
          "data": {
            "text/plain": [
              "Chrome                     76206\n",
              "Safari                     37281\n",
              "ie 11.0 for desktop         9030\n",
              "edge 16.0                   4188\n",
              "firefox 57.0                3315\n",
              "edge 15.0                   1600\n",
              "firefox 59.0                1099\n",
              "samsung browser 6.2         1061\n",
              "firefox 58.0                 833\n",
              "firefox                      673\n",
              "ie 11.0 for tablet           647\n",
              "samsung browser 6.4          509\n",
              "Opera                        449\n",
              "edge 14.0                    419\n",
              "firefox 52.0                 394\n",
              "other                        312\n",
              "android webview 4.0          285\n",
              "firefox 60.0                 225\n",
              "samsung browser generic      210\n",
              "firefox 48.0                 179\n",
              "Samsung/SM-G532M             150\n",
              "firefox 56.0                 126\n",
              "firefox generic              110\n",
              "samsung browser 7.0          101\n",
              "android browser 4.0          100\n",
              "Generic/Android 7.0           81\n",
              "edge 17.0                     74\n",
              "edge 13.0                     62\n",
              "edge                          58\n",
              "Generic/Android               57\n",
              "                           ...  \n",
              "firefox 55.0                  20\n",
              "silk                          19\n",
              "samsung browser 4.2           18\n",
              "samsung                       16\n",
              "mobile                        11\n",
              "ZTE/Blade                      9\n",
              "samsung browser 3.3            8\n",
              "comodo                         6\n",
              "maxthon                        6\n",
              "line                           6\n",
              "Mozilla/Firefox                5\n",
              "icedragon                      5\n",
              "aol                            5\n",
              "Lanix/Ilium                    3\n",
              "puffin                         2\n",
              "facebook                       2\n",
              "waterfox                       2\n",
              "palemoon                       2\n",
              "iron                           1\n",
              "Inco/Minion                    1\n",
              "BLU/Dash                       1\n",
              "firefox mobile 61.0            1\n",
              "android                        1\n",
              "M4Tel/M4                       1\n",
              "Cherry                         1\n",
              "seamonkey                      1\n",
              "Nokia/Lumia                    1\n",
              "LG/K-200                       1\n",
              "Samsung/SCH                    1\n",
              "cyberfox                       1\n",
              "Name: id_31, Length: 67, dtype: int64"
            ]
          },
          "metadata": {
            "tags": []
          },
          "execution_count": 32
        }
      ]
    },
    {
      "cell_type": "code",
      "metadata": {
        "id": "bDLZVGUtoWnK",
        "colab_type": "code",
        "outputId": "2ad1332d-60b7-4650-fc3b-cfd1cd200f4d",
        "colab": {
          "base_uri": "https://localhost:8080/",
          "height": 1000
        }
      },
      "source": [
        "# (4) edge\n",
        "#train_merged.loc[train_merged['id_31'].str.contains('edge', na=False), 'id_31']='MicroSoft'\n",
        "\n",
        "train_merged.loc[ train_merged['id_31']=='Edge', 'id_31']='MicroSoft'\n",
        "# Microsoft/Windows \n",
        "train_merged.loc[ train_merged['id_31'].str.contains('Microsoft/Windows', na=False), 'id_31']='MicroSoft'\n",
        "train_merged['id_31'].value_counts()"
      ],
      "execution_count": 0,
      "outputs": [
        {
          "output_type": "execute_result",
          "data": {
            "text/plain": [
              "Chrome                     76206\n",
              "Safari                     37281\n",
              "ie 11.0 for desktop         9030\n",
              "edge 16.0                   4188\n",
              "firefox 57.0                3315\n",
              "edge 15.0                   1600\n",
              "firefox 59.0                1099\n",
              "samsung browser 6.2         1061\n",
              "firefox 58.0                 833\n",
              "firefox                      673\n",
              "ie 11.0 for tablet           647\n",
              "samsung browser 6.4          509\n",
              "Opera                        449\n",
              "edge 14.0                    419\n",
              "firefox 52.0                 394\n",
              "other                        312\n",
              "android webview 4.0          285\n",
              "firefox 60.0                 225\n",
              "samsung browser generic      210\n",
              "firefox 48.0                 179\n",
              "Samsung/SM-G532M             150\n",
              "firefox 56.0                 126\n",
              "firefox generic              110\n",
              "samsung browser 7.0          101\n",
              "android browser 4.0          100\n",
              "Generic/Android 7.0           81\n",
              "edge 17.0                     74\n",
              "edge 13.0                     62\n",
              "edge                          58\n",
              "Generic/Android               57\n",
              "                           ...  \n",
              "firefox 55.0                  20\n",
              "silk                          19\n",
              "samsung browser 4.2           18\n",
              "samsung                       16\n",
              "mobile                        11\n",
              "ZTE/Blade                      9\n",
              "samsung browser 3.3            8\n",
              "comodo                         6\n",
              "maxthon                        6\n",
              "line                           6\n",
              "Mozilla/Firefox                5\n",
              "icedragon                      5\n",
              "aol                            5\n",
              "Lanix/Ilium                    3\n",
              "puffin                         2\n",
              "facebook                       2\n",
              "waterfox                       2\n",
              "palemoon                       2\n",
              "iron                           1\n",
              "Inco/Minion                    1\n",
              "BLU/Dash                       1\n",
              "firefox mobile 61.0            1\n",
              "android                        1\n",
              "M4Tel/M4                       1\n",
              "Cherry                         1\n",
              "seamonkey                      1\n",
              "Nokia/Lumia                    1\n",
              "LG/K-200                       1\n",
              "Samsung/SCH                    1\n",
              "cyberfox                       1\n",
              "Name: id_31, Length: 67, dtype: int64"
            ]
          },
          "metadata": {
            "tags": []
          },
          "execution_count": 33
        }
      ]
    },
    {
      "cell_type": "code",
      "metadata": {
        "id": "ReZR9jN7o-Nh",
        "colab_type": "code",
        "outputId": "958aea29-adba-4d60-8cc0-ac1029dfc556",
        "colab": {
          "base_uri": "https://localhost:8080/",
          "height": 1000
        }
      },
      "source": [
        "# (5) ie\n",
        "train_merged.loc[ train_merged['id_31'].str.contains('ie', na=False), 'id_31']='IE'\n",
        "train_merged['id_31'].value_counts()"
      ],
      "execution_count": 0,
      "outputs": [
        {
          "output_type": "execute_result",
          "data": {
            "text/plain": [
              "Chrome                     76206\n",
              "Safari                     37281\n",
              "IE                         10018\n",
              "edge 16.0                   4188\n",
              "firefox 57.0                3315\n",
              "edge 15.0                   1600\n",
              "firefox 59.0                1099\n",
              "samsung browser 6.2         1061\n",
              "firefox 58.0                 833\n",
              "firefox                      673\n",
              "samsung browser 6.4          509\n",
              "Opera                        449\n",
              "edge 14.0                    419\n",
              "firefox 52.0                 394\n",
              "other                        312\n",
              "firefox 60.0                 225\n",
              "samsung browser generic      210\n",
              "firefox 48.0                 179\n",
              "Samsung/SM-G532M             150\n",
              "firefox 56.0                 126\n",
              "firefox generic              110\n",
              "samsung browser 7.0          101\n",
              "android browser 4.0          100\n",
              "Generic/Android 7.0           81\n",
              "edge 17.0                     74\n",
              "edge 13.0                     62\n",
              "edge                          58\n",
              "Generic/Android               57\n",
              "Samsung/SM-G531H              52\n",
              "samsung browser 5.4           43\n",
              "                           ...  \n",
              "firefox 55.0                  20\n",
              "silk                          19\n",
              "samsung browser 4.2           18\n",
              "samsung                       16\n",
              "mobile                        11\n",
              "ZTE/Blade                      9\n",
              "samsung browser 3.3            8\n",
              "line                           6\n",
              "comodo                         6\n",
              "maxthon                        6\n",
              "aol                            5\n",
              "Mozilla/Firefox                5\n",
              "icedragon                      5\n",
              "Lanix/Ilium                    3\n",
              "puffin                         2\n",
              "palemoon                       2\n",
              "waterfox                       2\n",
              "facebook                       2\n",
              "cyberfox                       1\n",
              "M4Tel/M4                       1\n",
              "Nokia/Lumia                    1\n",
              "Cherry                         1\n",
              "seamonkey                      1\n",
              "LG/K-200                       1\n",
              "Inco/Minion                    1\n",
              "firefox mobile 61.0            1\n",
              "Samsung/SCH                    1\n",
              "iron                           1\n",
              "BLU/Dash                       1\n",
              "android                        1\n",
              "Name: id_31, Length: 64, dtype: int64"
            ]
          },
          "metadata": {
            "tags": []
          },
          "execution_count": 34
        }
      ]
    },
    {
      "cell_type": "code",
      "metadata": {
        "id": "DzfcMrR3k7Bq",
        "colab_type": "code",
        "outputId": "8168cd75-f856-45c5-e074-9cdd21064777",
        "colab": {
          "base_uri": "https://localhost:8080/",
          "height": 971
        }
      },
      "source": [
        "# (6) firefox\n",
        "train_merged.loc[ train_merged['id_31'].str.contains('firefox', na=False), 'id_31' ]='FireFox'\n",
        "# Mozilla/FireFox 도 같이 합친다.\n",
        "train_merged.loc[ train_merged['id_31'].isin(['Mozilla/Firefox']), 'id_31']='FireFox'\n",
        "train_merged['id_31'].value_counts()"
      ],
      "execution_count": 0,
      "outputs": [
        {
          "output_type": "execute_result",
          "data": {
            "text/plain": [
              "Chrome                     76206\n",
              "Safari                     37281\n",
              "IE                         10018\n",
              "FireFox                     7017\n",
              "edge 16.0                   4188\n",
              "edge 15.0                   1600\n",
              "samsung browser 6.2         1061\n",
              "samsung browser 6.4          509\n",
              "Opera                        449\n",
              "edge 14.0                    419\n",
              "other                        312\n",
              "samsung browser generic      210\n",
              "Samsung/SM-G532M             150\n",
              "samsung browser 7.0          101\n",
              "android browser 4.0          100\n",
              "Generic/Android 7.0           81\n",
              "edge 17.0                     74\n",
              "edge 13.0                     62\n",
              "edge                          58\n",
              "Generic/Android               57\n",
              "Samsung/SM-G531H              52\n",
              "samsung browser 5.4           43\n",
              "samsung browser 5.2           41\n",
              "samsung browser 4.0           37\n",
              "MicroSoft                     25\n",
              "silk                          19\n",
              "samsung browser 4.2           18\n",
              "samsung                       16\n",
              "mobile                        11\n",
              "ZTE/Blade                      9\n",
              "samsung browser 3.3            8\n",
              "comodo                         6\n",
              "line                           6\n",
              "maxthon                        6\n",
              "aol                            5\n",
              "icedragon                      5\n",
              "Lanix/Ilium                    3\n",
              "facebook                       2\n",
              "waterfox                       2\n",
              "puffin                         2\n",
              "palemoon                       2\n",
              "cyberfox                       1\n",
              "android                        1\n",
              "seamonkey                      1\n",
              "M4Tel/M4                       1\n",
              "Cherry                         1\n",
              "Samsung/SCH                    1\n",
              "LG/K-200                       1\n",
              "Nokia/Lumia                    1\n",
              "iron                           1\n",
              "BLU/Dash                       1\n",
              "Inco/Minion                    1\n",
              "Name: id_31, dtype: int64"
            ]
          },
          "metadata": {
            "tags": []
          },
          "execution_count": 35
        }
      ]
    },
    {
      "cell_type": "code",
      "metadata": {
        "id": "n59fzdXUmsCA",
        "colab_type": "code",
        "outputId": "d6d21713-361f-4acb-c4f0-7f763c2dadea",
        "colab": {
          "base_uri": "https://localhost:8080/",
          "height": 755
        }
      },
      "source": [
        "# (7) samsung\n",
        "train_merged.loc[ train_merged['id_31'].str.contains('samsung', na=False) , 'id_31'  ]= 'Samsung'\n",
        "train_merged.loc[ train_merged['id_31'].isin(['Samsung/SM-G532M', \n",
        "                                              'Samsung/SM-G531H', \n",
        "                                              'Samsung/SCH']), 'id_31']='Samsung'\n",
        "train_merged['id_31'].value_counts()"
      ],
      "execution_count": 0,
      "outputs": [
        {
          "output_type": "execute_result",
          "data": {
            "text/plain": [
              "Chrome                 76206\n",
              "Safari                 37281\n",
              "IE                     10018\n",
              "FireFox                 7017\n",
              "edge 16.0               4188\n",
              "Samsung                 2247\n",
              "edge 15.0               1600\n",
              "Opera                    449\n",
              "edge 14.0                419\n",
              "other                    312\n",
              "android browser 4.0      100\n",
              "Generic/Android 7.0       81\n",
              "edge 17.0                 74\n",
              "edge 13.0                 62\n",
              "edge                      58\n",
              "Generic/Android           57\n",
              "MicroSoft                 25\n",
              "silk                      19\n",
              "mobile                    11\n",
              "ZTE/Blade                  9\n",
              "comodo                     6\n",
              "maxthon                    6\n",
              "line                       6\n",
              "aol                        5\n",
              "icedragon                  5\n",
              "Lanix/Ilium                3\n",
              "palemoon                   2\n",
              "puffin                     2\n",
              "waterfox                   2\n",
              "facebook                   2\n",
              "M4Tel/M4                   1\n",
              "iron                       1\n",
              "Nokia/Lumia                1\n",
              "Cherry                     1\n",
              "cyberfox                   1\n",
              "LG/K-200                   1\n",
              "android                    1\n",
              "seamonkey                  1\n",
              "Inco/Minion                1\n",
              "BLU/Dash                   1\n",
              "Name: id_31, dtype: int64"
            ]
          },
          "metadata": {
            "tags": []
          },
          "execution_count": 36
        }
      ]
    },
    {
      "cell_type": "code",
      "metadata": {
        "id": "xpVy3BOjulEl",
        "colab_type": "code",
        "outputId": "6b1b2324-f650-482d-9d64-5fca22bc71b6",
        "colab": {
          "base_uri": "https://localhost:8080/",
          "height": 701
        }
      },
      "source": [
        "# (8) Android\n",
        "train_merged.loc[ train_merged['id_31'].isin(['android browser 4.0', 'Generic/Android 7.0', 'Generic/Android', 'android']), 'id_31']='Android'\n",
        "train_merged['id_31'].value_counts()"
      ],
      "execution_count": 0,
      "outputs": [
        {
          "output_type": "execute_result",
          "data": {
            "text/plain": [
              "Chrome         76206\n",
              "Safari         37281\n",
              "IE             10018\n",
              "FireFox         7017\n",
              "edge 16.0       4188\n",
              "Samsung         2247\n",
              "edge 15.0       1600\n",
              "Opera            449\n",
              "edge 14.0        419\n",
              "other            312\n",
              "Android          239\n",
              "edge 17.0         74\n",
              "edge 13.0         62\n",
              "edge              58\n",
              "MicroSoft         25\n",
              "silk              19\n",
              "mobile            11\n",
              "ZTE/Blade          9\n",
              "comodo             6\n",
              "maxthon            6\n",
              "line               6\n",
              "aol                5\n",
              "icedragon          5\n",
              "Lanix/Ilium        3\n",
              "waterfox           2\n",
              "palemoon           2\n",
              "facebook           2\n",
              "puffin             2\n",
              "LG/K-200           1\n",
              "Inco/Minion        1\n",
              "BLU/Dash           1\n",
              "iron               1\n",
              "Cherry             1\n",
              "M4Tel/M4           1\n",
              "seamonkey          1\n",
              "cyberfox           1\n",
              "Nokia/Lumia        1\n",
              "Name: id_31, dtype: int64"
            ]
          },
          "metadata": {
            "tags": []
          },
          "execution_count": 37
        }
      ]
    },
    {
      "cell_type": "code",
      "metadata": {
        "id": "Md74EANmvarJ",
        "colab_type": "code",
        "outputId": "3273a26f-c576-4314-e57a-f2970c24c2a1",
        "colab": {
          "base_uri": "https://localhost:8080/",
          "height": 251
        }
      },
      "source": [
        "train_merged.loc[ train_merged['id_31'].isin( train_merged.id_31.value_counts().loc[train_merged['id_31'].value_counts().values<=100].index), 'id_31'] ='Others'\n",
        "train_merged.id_31.value_counts()"
      ],
      "execution_count": 0,
      "outputs": [
        {
          "output_type": "execute_result",
          "data": {
            "text/plain": [
              "Chrome       76206\n",
              "Safari       37281\n",
              "IE           10018\n",
              "FireFox       7017\n",
              "edge 16.0     4188\n",
              "Samsung       2247\n",
              "edge 15.0     1600\n",
              "Opera          449\n",
              "edge 14.0      419\n",
              "other          312\n",
              "Others         306\n",
              "Android        239\n",
              "Name: id_31, dtype: int64"
            ]
          },
          "metadata": {
            "tags": []
          },
          "execution_count": 38
        }
      ]
    },
    {
      "cell_type": "markdown",
      "metadata": {
        "id": "mzecPZfkyraC",
        "colab_type": "text"
      },
      "source": [
        "# id_33\n",
        "\n",
        "화면의 해상도를 나타내는 것 같다.\n",
        "\n",
        "여기서는 id_30, id_31 처럼 그룹 라벨링을 하지않고 \n",
        "\n",
        "개수가 500개 미만인 것들을 OtherSize 로 통합시킨다."
      ]
    },
    {
      "cell_type": "code",
      "metadata": {
        "id": "ea7PTJrmyuga",
        "colab_type": "code",
        "outputId": "f0fabe7d-0eb4-4c70-9263-80e42a3e37d9",
        "colab": {
          "base_uri": "https://localhost:8080/",
          "height": 413
        }
      },
      "source": [
        "train_merged.loc[ train_merged['id_33'].isin(\n",
        "  train_merged.id_33.value_counts().loc[ train_merged['id_33'].value_counts().values<=500].index), 'id_33'] ='OtherSize'\n",
        "\n",
        "train_merged.id_33.value_counts()"
      ],
      "execution_count": 0,
      "outputs": [
        {
          "output_type": "execute_result",
          "data": {
            "text/plain": [
              "1920x1080    16874\n",
              "1366x768      8605\n",
              "1334x750      6447\n",
              "OtherSize     5796\n",
              "2208x1242     4900\n",
              "1440x900      4384\n",
              "1600x900      3510\n",
              "2048x1536     3482\n",
              "1280x800      2149\n",
              "2560x1600     2093\n",
              "2560x1440     1865\n",
              "2880x1800     1756\n",
              "1280x1024     1743\n",
              "1680x1050     1727\n",
              "1136x640      1712\n",
              "2436x1125     1484\n",
              "1280x720      1318\n",
              "1920x1200     1056\n",
              "2001x1125     1020\n",
              "1024x768       824\n",
              "2220x1080      544\n",
              "Name: id_33, dtype: int64"
            ]
          },
          "metadata": {
            "tags": []
          },
          "execution_count": 39
        }
      ]
    },
    {
      "cell_type": "markdown",
      "metadata": {
        "id": "O8PPzxG_1uP7",
        "colab_type": "text"
      },
      "source": [
        "# DeviceInfo\n",
        "\n",
        "object(string) 타입의 데이터를 갖는 컬럼들 중 가장많은 클래스를 갖고있다. (141개)\n",
        "\n",
        "컴퓨터와같은 기기의 정보를 나타낸다.\n",
        "\n",
        "- ex) SM, SAMSUNG  → SAMSUNG\n",
        "\n",
        "- ex) rv:58.0, rv:52.0 →  rv\n"
      ]
    },
    {
      "cell_type": "code",
      "metadata": {
        "id": "_0I3eQXf1xk6",
        "colab_type": "code",
        "outputId": "cce5cf40-2c85-4796-a176-e67228fbe760",
        "colab": {
          "base_uri": "https://localhost:8080/",
          "height": 1000
        }
      },
      "source": [
        "# (1) Samsung\n",
        "train_merged['DeviceInfo'].loc[ train_merged['DeviceInfo'].str.contains('SM' , na=False)] = 'Samsung'\n",
        "train_merged['DeviceInfo'].loc[ train_merged['DeviceInfo'].isin(['SAMSUNG'])]= 'Samsung'\n",
        "train_merged.DeviceInfo.value_counts()"
      ],
      "execution_count": 0,
      "outputs": [
        {
          "output_type": "stream",
          "text": [
            "/usr/local/lib/python3.6/dist-packages/pandas/core/indexing.py:190: SettingWithCopyWarning: \n",
            "A value is trying to be set on a copy of a slice from a DataFrame\n",
            "\n",
            "See the caveats in the documentation: http://pandas.pydata.org/pandas-docs/stable/indexing.html#indexing-view-versus-copy\n",
            "  self._setitem_with_indexer(indexer, value)\n"
          ],
          "name": "stderr"
        },
        {
          "output_type": "execute_result",
          "data": {
            "text/plain": [
              "Windows                                47722\n",
              "iOS Device                             19782\n",
              "MacOS                                  12573\n",
              "Samsung                                11933\n",
              "Trident/7.0                             7440\n",
              "rv:11.0                                 1901\n",
              "rv:57.0                                  962\n",
              "rv:59.0                                  362\n",
              "ALE-L23 Build/HuaweiALE-L23              312\n",
              "rv:58.0                                  269\n",
              "rv:52.0                                  256\n",
              "Moto G (4) Build/NPJ25.93-14.7           219\n",
              "hi6210sft Build/MRA58K                   190\n",
              "rv:48.0                                  178\n",
              "CAM-L03 Build/HUAWEICAM-L03              172\n",
              "LG-M700 Build/NMF26X                     169\n",
              "Moto E (4) Plus Build/NMA26.42-69        160\n",
              "LG-D693n Build/LRX22G                    150\n",
              "Moto G (4) Build/NPJS25.93-14-13         147\n",
              "LG-K410 Build/LRX22G                     136\n",
              "PRA-LX3 Build/HUAWEIPRA-LX3              135\n",
              "Moto G (5) Plus Build/NPN25.137-92       130\n",
              "Moto G Play Build/MPIS24.241-15.3-7      129\n",
              "Moto Z2 Play Build/NPSS26.118-19-14      129\n",
              "Moto E (4) Build/NMA26.42-69             125\n",
              "TRT-L53 Build/HUAWEITRT-L53              122\n",
              "LG-K580 Build/MRA58K                     117\n",
              "HUAWEI TAG-L13 Build/HUAWEITAG-L13       113\n",
              "HUAWEI VNS-L53 Build/HUAWEIVNS-L53       113\n",
              "HUAWEI VNS-L23 Build/HUAWEIVNS-L23       112\n",
              "                                       ...  \n",
              "SPH-L720T                                  1\n",
              "LGUS992                                    1\n",
              "XT1023                                     1\n",
              "LGL57BL                                    1\n",
              "Robin                                      1\n",
              "GT-S7275B                                  1\n",
              "A952                                       1\n",
              "XT1094                                     1\n",
              "ASUS                                       1\n",
              "XT1680                                     1\n",
              "D6603                                      1\n",
              "F8131                                      1\n",
              "SCH-I435                                   1\n",
              "PLE-701L                                   1\n",
              "Helix                                      1\n",
              "SKY_5.0LM                                  1\n",
              "LG-LG870                                   1\n",
              "ICON                                       1\n",
              "831C                                       1\n",
              "LGLK430                                    1\n",
              "N9136                                      1\n",
              "KYY22                                      1\n",
              "A5002                                      1\n",
              "GT-I8200N                                  1\n",
              "AX705                                      1\n",
              "LG-V700                                    1\n",
              "Infinit                                    1\n",
              "P01M                                       1\n",
              "H1611                                      1\n",
              "ZTE-Z956                                   1\n",
              "Name: DeviceInfo, Length: 1241, dtype: int64"
            ]
          },
          "metadata": {
            "tags": []
          },
          "execution_count": 40
        }
      ]
    },
    {
      "cell_type": "code",
      "metadata": {
        "id": "WloGji_P90qN",
        "colab_type": "code",
        "outputId": "1687c1ff-4d10-4269-8de4-bde41a503f10",
        "colab": {
          "base_uri": "https://localhost:8080/",
          "height": 1000
        }
      },
      "source": [
        "# (2) LG\n",
        "train_merged['DeviceInfo'].loc[ train_merged['DeviceInfo'].str.contains('LG', na=False)]='LG'\n",
        "train_merged.DeviceInfo.value_counts()"
      ],
      "execution_count": 0,
      "outputs": [
        {
          "output_type": "stream",
          "text": [
            "/usr/local/lib/python3.6/dist-packages/pandas/core/indexing.py:190: SettingWithCopyWarning: \n",
            "A value is trying to be set on a copy of a slice from a DataFrame\n",
            "\n",
            "See the caveats in the documentation: http://pandas.pydata.org/pandas-docs/stable/indexing.html#indexing-view-versus-copy\n",
            "  self._setitem_with_indexer(indexer, value)\n"
          ],
          "name": "stderr"
        },
        {
          "output_type": "execute_result",
          "data": {
            "text/plain": [
              "Windows                                47722\n",
              "iOS Device                             19782\n",
              "MacOS                                  12573\n",
              "Samsung                                11933\n",
              "Trident/7.0                             7440\n",
              "LG                                      2563\n",
              "rv:11.0                                 1901\n",
              "rv:57.0                                  962\n",
              "rv:59.0                                  362\n",
              "ALE-L23 Build/HuaweiALE-L23              312\n",
              "rv:58.0                                  269\n",
              "rv:52.0                                  256\n",
              "Moto G (4) Build/NPJ25.93-14.7           219\n",
              "hi6210sft Build/MRA58K                   190\n",
              "rv:48.0                                  178\n",
              "CAM-L03 Build/HUAWEICAM-L03              172\n",
              "Moto E (4) Plus Build/NMA26.42-69        160\n",
              "Moto G (4) Build/NPJS25.93-14-13         147\n",
              "PRA-LX3 Build/HUAWEIPRA-LX3              135\n",
              "Moto G (5) Plus Build/NPN25.137-92       130\n",
              "Moto G Play Build/MPIS24.241-15.3-7      129\n",
              "Moto Z2 Play Build/NPSS26.118-19-14      129\n",
              "Moto E (4) Build/NMA26.42-69             125\n",
              "TRT-L53 Build/HUAWEITRT-L53              122\n",
              "HUAWEI VNS-L53 Build/HUAWEIVNS-L53       113\n",
              "HUAWEI TAG-L13 Build/HUAWEITAG-L13       113\n",
              "Moto X Play Build/NPD26.48-24-1          112\n",
              "HUAWEI VNS-L23 Build/HUAWEIVNS-L23       112\n",
              "Moto G (5) Build/NPP25.137-93            110\n",
              "WAS-LX3 Build/HUAWEIWAS-LX3              108\n",
              "                                       ...  \n",
              "D5106                                      1\n",
              "7_Plus                                     1\n",
              "Infinit                                    1\n",
              "ME301T                                     1\n",
              "SCH-I435                                   1\n",
              "XT1680                                     1\n",
              "XT1023                                     1\n",
              "CAM-L23                                    1\n",
              "Minion_Tab                                 1\n",
              "5045I                                      1\n",
              "E6683                                      1\n",
              "DOMOS                                      1\n",
              "V.40R                                      1\n",
              "9002A                                      1\n",
              "QTASUN1                                    1\n",
              "TA-1020                                    1\n",
              "K88                                        1\n",
              "XT1580 Build/NPKS25.200-12-9               1\n",
              "Fusion5_u7                                 1\n",
              "SLAY                                       1\n",
              "9022X                                      1\n",
              "A621R                                      1\n",
              "iris702                                    1\n",
              "XT1094                                     1\n",
              "HTC U11 Build/OPR6.170623.013              1\n",
              "BV6000                                     1\n",
              "C6603                                      1\n",
              "XT1055                                     1\n",
              "AKUS                                       1\n",
              "6037B                                      1\n",
              "Name: DeviceInfo, Length: 1064, dtype: int64"
            ]
          },
          "metadata": {
            "tags": []
          },
          "execution_count": 41
        }
      ]
    },
    {
      "cell_type": "code",
      "metadata": {
        "id": "3533m7Sx-vNs",
        "colab_type": "code",
        "outputId": "89530a34-cbfd-485d-dcde-8b5f207d085d",
        "colab": {
          "base_uri": "https://localhost:8080/",
          "height": 1000
        }
      },
      "source": [
        "# (3) rv\n",
        "train_merged.loc[ train_merged['DeviceInfo'].str.contains('rv', na=False), 'DeviceInfo']= 'RV'\n",
        "train_merged.DeviceInfo.value_counts()"
      ],
      "execution_count": 0,
      "outputs": [
        {
          "output_type": "execute_result",
          "data": {
            "text/plain": [
              "Windows                                47722\n",
              "iOS Device                             19782\n",
              "MacOS                                  12573\n",
              "Samsung                                11933\n",
              "Trident/7.0                             7440\n",
              "RV                                      4385\n",
              "LG                                      2563\n",
              "ALE-L23 Build/HuaweiALE-L23              312\n",
              "Moto G (4) Build/NPJ25.93-14.7           219\n",
              "hi6210sft Build/MRA58K                   190\n",
              "CAM-L03 Build/HUAWEICAM-L03              172\n",
              "Moto E (4) Plus Build/NMA26.42-69        160\n",
              "Moto G (4) Build/NPJS25.93-14-13         147\n",
              "PRA-LX3 Build/HUAWEIPRA-LX3              135\n",
              "Moto G (5) Plus Build/NPN25.137-92       130\n",
              "Moto G Play Build/MPIS24.241-15.3-7      129\n",
              "Moto Z2 Play Build/NPSS26.118-19-14      129\n",
              "Moto E (4) Build/NMA26.42-69             125\n",
              "TRT-L53 Build/HUAWEITRT-L53              122\n",
              "HUAWEI VNS-L53 Build/HUAWEIVNS-L53       113\n",
              "HUAWEI TAG-L13 Build/HUAWEITAG-L13       113\n",
              "Moto X Play Build/NPD26.48-24-1          112\n",
              "HUAWEI VNS-L23 Build/HUAWEIVNS-L23       112\n",
              "Moto G (5) Build/NPP25.137-93            110\n",
              "WAS-LX3 Build/HUAWEIWAS-LX3              108\n",
              "Moto E (4) Build/NMA26.42-19             106\n",
              "Moto G (4) Build/NPJS25.93-14-10         105\n",
              "Linux x86_64                             102\n",
              "F3213 Build/36.1.A.1.86                   98\n",
              "BLADE V8 SE Build/NRD90M                  97\n",
              "                                       ...  \n",
              "E6790TM                                    1\n",
              "F8332                                      1\n",
              "SGP611                                     1\n",
              "QTASUN1                                    1\n",
              "9002A                                      1\n",
              "K92                                        1\n",
              "FTJ152D                                    1\n",
              "0PAJ5                                      1\n",
              "0PJA2                                      1\n",
              "GT-P3100                                   1\n",
              "G25524K                                    1\n",
              "NX785QC8G                                  1\n",
              "N9136                                      1\n",
              "A3-A20                                     1\n",
              "HTC U11 Build/OPR6.170623.013              1\n",
              "GT-S7275B                                  1\n",
              "LEX829                                     1\n",
              "AX705                                      1\n",
              "BV6000                                     1\n",
              "Infinit                                    1\n",
              "ORION                                      1\n",
              "A9                                         1\n",
              "A952                                       1\n",
              "H1611                                      1\n",
              "KYY22                                      1\n",
              "7_Plus                                     1\n",
              "D5106                                      1\n",
              "YOLO                                       1\n",
              "A621R                                      1\n",
              "Wileyfox                                   1\n",
              "Name: DeviceInfo, Length: 1034, dtype: int64"
            ]
          },
          "metadata": {
            "tags": []
          },
          "execution_count": 42
        }
      ]
    },
    {
      "cell_type": "code",
      "metadata": {
        "id": "hKLYowq3_ITj",
        "colab_type": "code",
        "outputId": "8e1155f6-c10b-4ee0-8470-42bb407c7145",
        "colab": {
          "base_uri": "https://localhost:8080/",
          "height": 1000
        }
      },
      "source": [
        "# (4) Moto\n",
        "train_merged['DeviceInfo'].loc[ train_merged['DeviceInfo'].str.contains('Moto', na=False)]='Moto'\n",
        "train_merged.DeviceInfo.value_counts()"
      ],
      "execution_count": 0,
      "outputs": [
        {
          "output_type": "stream",
          "text": [
            "/usr/local/lib/python3.6/dist-packages/pandas/core/indexing.py:190: SettingWithCopyWarning: \n",
            "A value is trying to be set on a copy of a slice from a DataFrame\n",
            "\n",
            "See the caveats in the documentation: http://pandas.pydata.org/pandas-docs/stable/indexing.html#indexing-view-versus-copy\n",
            "  self._setitem_with_indexer(indexer, value)\n"
          ],
          "name": "stderr"
        },
        {
          "output_type": "execute_result",
          "data": {
            "text/plain": [
              "Windows                                 47722\n",
              "iOS Device                              19782\n",
              "MacOS                                   12573\n",
              "Samsung                                 11933\n",
              "Trident/7.0                              7440\n",
              "RV                                       4385\n",
              "Moto                                     2851\n",
              "LG                                       2563\n",
              "ALE-L23 Build/HuaweiALE-L23               312\n",
              "hi6210sft Build/MRA58K                    190\n",
              "CAM-L03 Build/HUAWEICAM-L03               172\n",
              "PRA-LX3 Build/HUAWEIPRA-LX3               135\n",
              "TRT-L53 Build/HUAWEITRT-L53               122\n",
              "HUAWEI TAG-L13 Build/HUAWEITAG-L13        113\n",
              "HUAWEI VNS-L53 Build/HUAWEIVNS-L53        113\n",
              "HUAWEI VNS-L23 Build/HUAWEIVNS-L23        112\n",
              "WAS-LX3 Build/HUAWEIWAS-LX3               108\n",
              "Linux x86_64                              102\n",
              "F3213 Build/36.1.A.1.86                    98\n",
              "BLADE V8 SE Build/NRD90M                   97\n",
              "HTC Desire 10 lifestyle Build/MMB29M       94\n",
              "XT1635-02 Build/NPN26.118-22-2             94\n",
              "HUAWEI RIO-L03 Build/HUAWEIRIO-L03         89\n",
              "MYA-L13 Build/HUAWEIMYA-L13                86\n",
              "HUAWEI G7-L03 Build/HuaweiG7-L03           82\n",
              "Blade V6 Plus Build/MRA58K                 76\n",
              "F3113 Build/33.3.A.1.97                    73\n",
              "CRO-L03 Build/HUAWEICRO-L03                68\n",
              "RNE-L03 Build/HUAWEIRNE-L03                68\n",
              "CHC-U03 Build/HuaweiCHC-U03                67\n",
              "                                        ...  \n",
              "0PJA2                                       1\n",
              "0PAJ5                                       1\n",
              "FTJ152D                                     1\n",
              "STV100-3                                    1\n",
              "D5306                                       1\n",
              "5057M                                       1\n",
              "A952                                        1\n",
              "ASUS_Z01BDA                                 1\n",
              "XT1055                                      1\n",
              "N9136                                       1\n",
              "6037B                                       1\n",
              "5045I                                       1\n",
              "K10                                         1\n",
              "DOMOS                                       1\n",
              "VS500                                       1\n",
              "VK815                                       1\n",
              "S471                                        1\n",
              "TA-1020                                     1\n",
              "K88                                         1\n",
              "H550                                        1\n",
              "C6603                                       1\n",
              "Minion_Tab                                  1\n",
              "Fusion5_u7                                  1\n",
              "9022X                                       1\n",
              "9203A Build/MRA58K                          1\n",
              "iris702                                     1\n",
              "XT1094                                      1\n",
              "DUK-AL20                                    1\n",
              "MYA-L23                                     1\n",
              "IO                                          1\n",
              "Name: DeviceInfo, Length: 960, dtype: int64"
            ]
          },
          "metadata": {
            "tags": []
          },
          "execution_count": 43
        }
      ]
    },
    {
      "cell_type": "code",
      "metadata": {
        "id": "0rbHk45j_ikr",
        "colab_type": "code",
        "outputId": "d09d0d51-33e6-473d-d5db-4880dbbb5520",
        "colab": {
          "base_uri": "https://localhost:8080/",
          "height": 1000
        }
      },
      "source": [
        "# (5) Huawel\n",
        "train_merged['DeviceInfo'].loc[ train_merged['DeviceInfo'].str.contains('HUAWEI',na=False)]='Huawei'\n",
        "train_merged.loc[train_merged['DeviceInfo'].isin(['ALE-L23 Build/HuaweiALE-L23']) , 'DeviceInfo']= 'Huawei'\n",
        "train_merged.DeviceInfo.value_counts()"
      ],
      "execution_count": 0,
      "outputs": [
        {
          "output_type": "stream",
          "text": [
            "/usr/local/lib/python3.6/dist-packages/pandas/core/indexing.py:190: SettingWithCopyWarning: \n",
            "A value is trying to be set on a copy of a slice from a DataFrame\n",
            "\n",
            "See the caveats in the documentation: http://pandas.pydata.org/pandas-docs/stable/indexing.html#indexing-view-versus-copy\n",
            "  self._setitem_with_indexer(indexer, value)\n"
          ],
          "name": "stderr"
        },
        {
          "output_type": "execute_result",
          "data": {
            "text/plain": [
              "Windows                                 47722\n",
              "iOS Device                              19782\n",
              "MacOS                                   12573\n",
              "Samsung                                 11933\n",
              "Trident/7.0                              7440\n",
              "RV                                       4385\n",
              "Moto                                     2851\n",
              "LG                                       2563\n",
              "Huawei                                   2279\n",
              "hi6210sft Build/MRA58K                    190\n",
              "Linux x86_64                              102\n",
              "F3213 Build/36.1.A.1.86                    98\n",
              "BLADE V8 SE Build/NRD90M                   97\n",
              "HTC Desire 10 lifestyle Build/MMB29M       94\n",
              "XT1635-02 Build/NPN26.118-22-2             94\n",
              "Blade V6 Plus Build/MRA58K                 76\n",
              "F3113 Build/33.3.A.1.97                    73\n",
              "CHC-U03 Build/HuaweiCHC-U03                67\n",
              "HTC Desire 626s Build/LMY47O               67\n",
              "KFFOWI Build/LVY48F                        65\n",
              "5080A Build/MRA58K                         63\n",
              "M4 SS4456 Build/LMY47V                     61\n",
              "Hisense F23 Build/NRD90M                   61\n",
              "5010G Build/MRA58K                         60\n",
              "Hisense L675 Build/MRA58K                  60\n",
              "GT-I9060M Build/KTU84P                     59\n",
              "HTC Desire 650 Build/MMB29M                58\n",
              "Blade A510 Build/MRA58K                    57\n",
              "Redmi Note 4 Build/NRD90M                  53\n",
              "F5121 Build/34.3.A.0.252                   52\n",
              "                                        ...  \n",
              "DOMOS                                       1\n",
              "SENS                                        1\n",
              "R8106                                       1\n",
              "U FEEL LITE Build/MRA58K                    1\n",
              "TA-1020                                     1\n",
              "K88                                         1\n",
              "6037B                                       1\n",
              "A37f                                        1\n",
              "Minion_Tab                                  1\n",
              "GT-S7582L                                   1\n",
              "XT1710-02                                   1\n",
              "QwestIE8                                    1\n",
              "MYA-L11                                     1\n",
              "E501                                        1\n",
              "GT-P3100                                    1\n",
              "HTC_One_M8/4.28.502.2                       1\n",
              "TA-1004                                     1\n",
              "Grand2c                                     1\n",
              "GT-N5110                                    1\n",
              "Redmi Note 5A Build/N2G47H                  1\n",
              "YOGA                                        1\n",
              "GT-S7582                                    1\n",
              "A50C+                                       1\n",
              "831C                                        1\n",
              "XT1095                                      1\n",
              "Wileyfox                                    1\n",
              "F5321 Build/34.2.A.2.47                     1\n",
              "4034E                                       1\n",
              "A0001                                       1\n",
              "F8131                                       1\n",
              "Name: DeviceInfo, Length: 899, dtype: int64"
            ]
          },
          "metadata": {
            "tags": []
          },
          "execution_count": 44
        }
      ]
    },
    {
      "cell_type": "code",
      "metadata": {
        "id": "dC5P6mptAvaL",
        "colab_type": "code",
        "outputId": "f6cfdb28-7073-4a0d-8af1-0d619cfbd0f3",
        "colab": {
          "base_uri": "https://localhost:8080/",
          "height": 215
        }
      },
      "source": [
        "# Others (200개 적은 클래스들을 통합.)\n",
        "train_merged.loc[ train_merged['DeviceInfo'].isin(\n",
        " train_merged.DeviceInfo.value_counts().loc[ train_merged['DeviceInfo'].value_counts().values<= 200].index \n",
        "), 'DeviceInfo']='Others'\n",
        "\n",
        "train_merged.DeviceInfo.value_counts()"
      ],
      "execution_count": 0,
      "outputs": [
        {
          "output_type": "execute_result",
          "data": {
            "text/plain": [
              "Windows        47722\n",
              "iOS Device     19782\n",
              "MacOS          12573\n",
              "Samsung        11933\n",
              "Trident/7.0     7440\n",
              "Others          7138\n",
              "RV              4385\n",
              "Moto            2851\n",
              "LG              2563\n",
              "Huawei          2279\n",
              "Name: DeviceInfo, dtype: int64"
            ]
          },
          "metadata": {
            "tags": []
          },
          "execution_count": 45
        }
      ]
    },
    {
      "cell_type": "markdown",
      "metadata": {
        "id": "6QAncrZswlEB",
        "colab_type": "text"
      },
      "source": [
        "# Feature Engineering-ObjectColumns\n",
        "\n",
        "각 object column에 해당하는 클래스의 개수를 줄인다.\n"
      ]
    },
    {
      "cell_type": "code",
      "metadata": {
        "id": "R5rtEVAa62K0",
        "colab_type": "code",
        "outputId": "ead6fb70-71c6-40c3-99c2-dd9d46278624",
        "colab": {
          "base_uri": "https://localhost:8080/",
          "height": 163
        }
      },
      "source": [
        "def object_feature_engineering(df):\n",
        "  # P_emaildomain\n",
        "  df.loc[df['P_emaildomain'].isin(['gmail.com', 'gmail']), 'P_emaildomain']='Gmail'\n",
        "  \n",
        "  df.loc[df['P_emaildomain'].isin(['yahoo.com', 'yahoo.com.mx',\\\n",
        "                                                       'yahhoo.es','yahoo.fr',\\\n",
        "                                                       'yahoo.de', 'yahoo.co.uk', \\\n",
        "                                                       'yahoo.co.jp' ]), 'P_emaildomain']='Yahoo'\n",
        "  \n",
        "  df.loc[ df['P_emaildomain'].isin(['outlook.com', 'outlook.es']),'P_emaildomain']='Outlook'\n",
        "\n",
        "  df.loc[ df['P_emaildomain'].isin(['hotmail.com','hotmail.es', 'hotmail.fr', \\\n",
        "                                    'hotmail.co.uk', 'hotmail.de']),'P_emaildomain']='Hotmail'\n",
        "  \n",
        "  df.loc[ df['P_emaildomain'].isin(['mac.com', 'icloud.com']), 'P_emaildomain']='Apple'\n",
        "  \n",
        "  df.loc[ df['P_emaildomain'].isin(['live.com', 'live.com.mx', 'live.fr']), 'P_emaildomain']='Live'\n",
        "  \n",
        "  ## P_emaildomain 중 500개 미만인 것들은 Others로 합친다.\n",
        "  df.loc[ df['P_emaildomain'].isin( \n",
        "      df.P_emaildomain.value_counts()[\n",
        "          df.P_emaildomain.value_counts()<=500].index), 'P_emaildomain']='Others'\n",
        "  \n",
        "  # #################################################################################\n",
        "  # R_emaildomain\n",
        "  df.loc[df['R_emaildomain'].isin(['gmail',' gmail.com']), 'R_emaildomain']='Gmail'\n",
        "  \n",
        "  df.loc[df['R_emaildomain'].isin(['yahoo.com', 'yahoo.com.mx', 'yahoo.es', 'yahoo.de', \\\n",
        "                                   'yahoo.co.uk', 'yahoo.fr', 'yahoo.co.jp']), 'R_emaildomain']='Yahoo'\n",
        "  \n",
        "  df.loc[df['R_emaildomain'].isin(['outlook.com', 'outlook.es']), 'R_emaildomain']='Outlook'\n",
        "  \n",
        "  df.loc[df['R_emaildomain'].isin(['hotmail.com', 'hotmail.fr', 'hotmail.es',\\\n",
        "                                   'hotmail.co.uk', 'hotmail.de']), 'R_emaildomain']='Hotmail'\n",
        "  \n",
        "  df.loc[df['R_emaildomain'].isin(['icloud.com', 'mac.com']), 'R_emaildomain']='Apple'\n",
        "  \n",
        "  df.loc[df['R_emaildomain'].isin(['live.com', 'live.com.mx', 'live.fr']), 'R_emaildomain']='Live'\n",
        "  \n",
        "  # R_emaildomain 중 500개 미만인 것들은 Others로 합친다.\n",
        "  df.loc[ df['R_emaildomain'].isin( \n",
        "      df.R_emaildomain.value_counts()[\n",
        "          df.R_emaildomain.value_counts()<=500].index), 'R_emaildomain']='Others'\n",
        "  \n",
        "  # #################################################################################\n",
        "  # id_30\n",
        "  ## iOS\n",
        "  df.loc[ df['id_30'].str.contains('iOS', na=False), 'id_30']='iOS'\n",
        "  \n",
        "  ## Mac, Mac OS X\n",
        "  df.loc[ df['id_30'].str.contains('Mac', na=False), 'id_30']='Mac'\n",
        "  \n",
        "  ## Android\n",
        "  df.loc[ df['id_30'].str.contains('Android', na=False), 'id_30']='Android'\n",
        "  \n",
        "  ## Windows\n",
        "  df.loc[ df['id_30'].str.contains('Windows', na=False), 'id_30']='Windows'\n",
        "  \n",
        "  # #################################################################################\n",
        "  # id_31\n",
        "  ## chrome, google search application\n",
        "  df.loc[ df['id_31'].str.contains('chrome', na=False), 'id_31']='Chrome'\n",
        "  df.loc[ df['id_31'].isin(['google','google search application 48.0', \\\n",
        "                                                'google search application 49.0','chromium']), 'id_31']='Chrome'\n",
        "  \n",
        "  ## safari\n",
        "  df.loc[ df['id_31'].str.contains('safari', na=False), 'id_31']='Safari'\n",
        "  \n",
        "  ## firefox, mozila\n",
        "  df.loc[ df['id_31'].str.contains('firefox', na=False), 'id_31']='Firefox'\n",
        "  df.loc[ df['id_31'].isin(['Mozilla/Firefox']), 'id_31']='FireFox'\n",
        "  \n",
        "  ## samsung\n",
        "  df.loc[ df['id_31'].str.contains('samsung', na=False) , 'id_31']= 'Samsung'\n",
        "  df.loc[ df['id_31'].isin(['Samsung/SM-G532M','Samsung/SM-G531H', 'Samsung/SCH']), 'id_31']='Samsung'\n",
        "  \n",
        "  ## ie\n",
        "  df.loc[ df['id_31'].str.contains('ie', na=False), 'id_31']='IE'\n",
        "  \n",
        "  ## Edge\n",
        "  df.loc[ df['id_31'].str.contains('Edge', na=False), 'id_31']='MicroSoft'\n",
        "  df.loc[ df['id_31'].str.contains('Microsoft/Windows', na=False), 'id_31']='MicroSoft'\n",
        "  \n",
        "  ## Opera\n",
        "  df.loc[ df['id_31'].str.contains('opera', na=False), 'id_31']='Opera'\n",
        "  \n",
        "  ## Android\n",
        "  df.loc[ df['id_31'].isin(['android browser 4.0', 'Generic/Android 7.0', 'Generic/Android', 'android']), 'id_31']='Android'\n",
        "  \n",
        "  ## 100개 미만인 브라우저 클래스는 Others로 한다.\n",
        "  df.loc[ df['id_31'].isin(df.id_31.value_counts().loc[ df['id_31'].value_counts().values<=100].index), 'id_31'] ='Others'\n",
        "   \n",
        "  # #################################################################################\n",
        "  # id_33\n",
        "  # 500개 미만의 해상도 클래스는 OtherSize로 한다.\n",
        "  df.loc[ df['id_33'].isin( df.id_33.value_counts().loc[ df['id_33'].value_counts().values<=500].index), 'id_33']='OtherSize'\n",
        "  \n",
        "  # #################################################################################\n",
        "  # DeviceInfo\n",
        "  ## Samsung\n",
        "  train_merged['DeviceInfo'].loc[ train_merged['DeviceInfo'].str.contains('SM' , na=False)] = 'Samsung'\n",
        "  train_merged['DeviceInfo'].loc[ train_merged['DeviceInfo'].isin(['SAMSUNG'])]= 'Samsung'\n",
        "  train_merged.DeviceInfo.value_counts()\n",
        "  \n",
        "  ## LG\n",
        "  train_merged['DeviceInfo'].loc[ train_merged['DeviceInfo'].str.contains('LG', na=False)]='LG'\n",
        "  \n",
        "  ## RV\n",
        "  train_merged.loc[ train_merged['DeviceInfo'].str.contains('rv', na=False), 'DeviceInfo']= 'RV'\n",
        "  \n",
        "  ## Moto\n",
        "  train_merged['DeviceInfo'].loc[ train_merged['DeviceInfo'].str.contains('Moto', na=False)]='Moto'\n",
        "  \n",
        "  ## Huawei\n",
        "  train_merged['DeviceInfo'].loc[ train_merged['DeviceInfo'].str.contains('HUAWEI',na=False)]='Huawei'\n",
        "  train_merged.loc[train_merged['DeviceInfo'].isin(['ALE-L23 Build/HuaweiALE-L23']) , 'DeviceInfo']= 'Huawei'\n",
        "  \n",
        "  ## Others (100개 미만일 경우의 클래스들)\n",
        "  train_merged.loc[ train_merged['DeviceInfo'].isin(\n",
        "  train_merged.DeviceInfo.value_counts().loc[ train_merged['DeviceInfo'].value_counts().values<= 200].index), 'DeviceInfo']='Others'\n",
        "  \n",
        "  return df\n",
        "\n",
        "train_merged=object_feature_engineering(train_merged)\n",
        "%time\n"
      ],
      "execution_count": 0,
      "outputs": [
        {
          "output_type": "stream",
          "text": [
            "/usr/local/lib/python3.6/dist-packages/pandas/core/indexing.py:190: SettingWithCopyWarning: \n",
            "A value is trying to be set on a copy of a slice from a DataFrame\n",
            "\n",
            "See the caveats in the documentation: http://pandas.pydata.org/pandas-docs/stable/indexing.html#indexing-view-versus-copy\n",
            "  self._setitem_with_indexer(indexer, value)\n"
          ],
          "name": "stderr"
        },
        {
          "output_type": "stream",
          "text": [
            "CPU times: user 2 µs, sys: 0 ns, total: 2 µs\n",
            "Wall time: 6.44 µs\n"
          ],
          "name": "stdout"
        }
      ]
    },
    {
      "cell_type": "code",
      "metadata": {
        "id": "P0SBpQlOGwns",
        "colab_type": "code",
        "outputId": "57259eb4-f493-4093-e094-5fcaf8768c79",
        "colab": {
          "base_uri": "https://localhost:8080/",
          "height": 127
        }
      },
      "source": [
        "# test_merged 데이터셋 또한 미리 labeling 하기 좋은 형태로 바꾼다.\n",
        "test_merged= object_feature_engineering(test_merged)"
      ],
      "execution_count": 0,
      "outputs": [
        {
          "output_type": "stream",
          "text": [
            "/usr/local/lib/python3.6/dist-packages/pandas/core/indexing.py:190: SettingWithCopyWarning: \n",
            "A value is trying to be set on a copy of a slice from a DataFrame\n",
            "\n",
            "See the caveats in the documentation: http://pandas.pydata.org/pandas-docs/stable/indexing.html#indexing-view-versus-copy\n",
            "  self._setitem_with_indexer(indexer, value)\n"
          ],
          "name": "stderr"
        }
      ]
    },
    {
      "cell_type": "markdown",
      "metadata": {
        "id": "EWtN4y5cakdg",
        "colab_type": "text"
      },
      "source": [
        "# Feature Engineering - Null, NaN값 채우기."
      ]
    },
    {
      "cell_type": "code",
      "metadata": {
        "id": "BhcdOds0ai4o",
        "colab_type": "code",
        "colab": {}
      },
      "source": [
        "# Object 데이터 타입 컬럼에서 NaN값 대신에 다른 string으로 대신하기\n",
        "def fill_nan(df, obj_columns):\n",
        "  features= obj_columns\n",
        "  \n",
        "  for feature in features:\n",
        "    df[feature].fillna( 'None', inplace=True)\n",
        "  \n",
        "  return df"
      ],
      "execution_count": 0,
      "outputs": []
    },
    {
      "cell_type": "code",
      "metadata": {
        "id": "RgSC_DmlcF5I",
        "colab_type": "code",
        "colab": {}
      },
      "source": [
        "train_merged=fill_nan(train_merged, object_columns)"
      ],
      "execution_count": 0,
      "outputs": []
    },
    {
      "cell_type": "code",
      "metadata": {
        "id": "CPCrBxb8vzlY",
        "colab_type": "code",
        "outputId": "7473c602-7c9f-47de-a741-436f7c0fe6f6",
        "colab": {
          "base_uri": "https://localhost:8080/",
          "height": 467
        }
      },
      "source": [
        "train_merged.P_emaildomain.value_counts()"
      ],
      "execution_count": 0,
      "outputs": [
        {
          "output_type": "execute_result",
          "data": {
            "text/plain": [
              "Gmail             228851\n",
              "Yahoo             102775\n",
              "None               94456\n",
              "Hotmail            46005\n",
              "anonymous.com      36998\n",
              "aol.com            28289\n",
              "comcast.net         7888\n",
              "Apple               6703\n",
              "Outlook             5534\n",
              "Others              4611\n",
              "msn.com             4092\n",
              "att.net             4033\n",
              "Live                3846\n",
              "sbcglobal.net       2970\n",
              "verizon.net         2705\n",
              "ymail.com           2396\n",
              "bellsouth.net       1909\n",
              "me.com              1522\n",
              "cox.net             1393\n",
              "optonline.net       1011\n",
              "charter.net          816\n",
              "rocketmail.com       664\n",
              "mail.com             559\n",
              "earthlink.net        514\n",
              "Name: P_emaildomain, dtype: int64"
            ]
          },
          "metadata": {
            "tags": []
          },
          "execution_count": 50
        }
      ]
    },
    {
      "cell_type": "code",
      "metadata": {
        "id": "GLbq60thv6Te",
        "colab_type": "code",
        "outputId": "56bf06e4-a5af-4949-8ee6-e50948b6249e",
        "colab": {
          "base_uri": "https://localhost:8080/",
          "height": 305
        }
      },
      "source": [
        "train_merged.R_emaildomain.value_counts()"
      ],
      "execution_count": 0,
      "outputs": [
        {
          "output_type": "execute_result",
          "data": {
            "text/plain": [
              "None             453249\n",
              "gmail.com         57147\n",
              "Hotmail           28241\n",
              "anonymous.com     20529\n",
              "Yahoo             13691\n",
              "aol.com            3701\n",
              "Others             3463\n",
              "Outlook            2940\n",
              "comcast.net        1812\n",
              "Apple              1616\n",
              "Live               1571\n",
              "msn.com             852\n",
              "verizon.net         620\n",
              "me.com              556\n",
              "sbcglobal.net       552\n",
              "Name: R_emaildomain, dtype: int64"
            ]
          },
          "metadata": {
            "tags": []
          },
          "execution_count": 51
        }
      ]
    },
    {
      "cell_type": "code",
      "metadata": {
        "id": "t460f8P57sN-",
        "colab_type": "code",
        "outputId": "1dabf06b-d856-412d-9ecb-f49f9f0875f7",
        "colab": {
          "base_uri": "https://localhost:8080/",
          "height": 179
        }
      },
      "source": [
        "train_merged.id_30.value_counts()"
      ],
      "execution_count": 0,
      "outputs": [
        {
          "output_type": "execute_result",
          "data": {
            "text/plain": [
              "None       512975\n",
              "Windows     36739\n",
              "iOS         19782\n",
              "Mac         13580\n",
              "Android      6303\n",
              "Linux        1136\n",
              "other          15\n",
              "func           10\n",
              "Name: id_30, dtype: int64"
            ]
          },
          "metadata": {
            "tags": []
          },
          "execution_count": 52
        }
      ]
    },
    {
      "cell_type": "code",
      "metadata": {
        "id": "U3R4nhsuyQlr",
        "colab_type": "code",
        "outputId": "105fcbe2-eb7e-4985-8108-045cbec0a16e",
        "colab": {
          "base_uri": "https://localhost:8080/",
          "height": 269
        }
      },
      "source": [
        "train_merged.id_31.value_counts()"
      ],
      "execution_count": 0,
      "outputs": [
        {
          "output_type": "execute_result",
          "data": {
            "text/plain": [
              "None         450258\n",
              "Chrome        76206\n",
              "Safari        37281\n",
              "IE            10018\n",
              "FireFox        7017\n",
              "edge 16.0      4188\n",
              "Samsung        2247\n",
              "edge 15.0      1600\n",
              "Opera           449\n",
              "edge 14.0       419\n",
              "other           312\n",
              "Others          306\n",
              "Android         239\n",
              "Name: id_31, dtype: int64"
            ]
          },
          "metadata": {
            "tags": []
          },
          "execution_count": 53
        }
      ]
    },
    {
      "cell_type": "code",
      "metadata": {
        "id": "KmRR-PaL-9_b",
        "colab_type": "code",
        "outputId": "b12c11c3-dc43-4aab-c7b0-3179a81f95f6",
        "colab": {
          "base_uri": "https://localhost:8080/",
          "height": 233
        }
      },
      "source": [
        "train_merged.DeviceInfo.value_counts()"
      ],
      "execution_count": 0,
      "outputs": [
        {
          "output_type": "execute_result",
          "data": {
            "text/plain": [
              "None           471874\n",
              "Windows         47722\n",
              "iOS Device      19782\n",
              "MacOS           12573\n",
              "Samsung         11933\n",
              "Trident/7.0      7440\n",
              "Others           7138\n",
              "RV               4385\n",
              "Moto             2851\n",
              "LG               2563\n",
              "Huawei           2279\n",
              "Name: DeviceInfo, dtype: int64"
            ]
          },
          "metadata": {
            "tags": []
          },
          "execution_count": 54
        }
      ]
    },
    {
      "cell_type": "markdown",
      "metadata": {
        "id": "SSW8qd20W9pH",
        "colab_type": "text"
      },
      "source": [
        "# LabelEncoding"
      ]
    },
    {
      "cell_type": "code",
      "metadata": {
        "id": "XPj81tFTXCDh",
        "colab_type": "code",
        "colab": {}
      },
      "source": [
        "from sklearn.preprocessing import LabelEncoder\n",
        "\n",
        "def labelEncoding_features(df, obj_columns):\n",
        "  # object_columns에 해당하는 컬럼을 레이블인코딩 수행..\n",
        "  # LabelEncoder를 객체로 생성한 후 fit()과 transform()으로 레이블 인코딩 수행\n",
        "  features = obj_columns\n",
        "  \n",
        "  for feature in features:\n",
        "    le= LabelEncoder()\n",
        "    le = le.fit(df[feature])\n",
        "    df[feature]=le.transform(df[feature])\n",
        "  \n",
        "  return df"
      ],
      "execution_count": 0,
      "outputs": []
    },
    {
      "cell_type": "code",
      "metadata": {
        "id": "fZE9p_cEG900",
        "colab_type": "code",
        "colab": {}
      },
      "source": [
        "# label encoder 함수를 이용하여 object를 숫자타입으로 변환시키자.\n",
        "train_merged= labelEncoding_features(train_merged, object_columns)"
      ],
      "execution_count": 0,
      "outputs": []
    },
    {
      "cell_type": "markdown",
      "metadata": {
        "id": "L1apUZGxE50P",
        "colab_type": "text"
      },
      "source": [
        "# Modeling - LightGBM(LGBM)"
      ]
    },
    {
      "cell_type": "code",
      "metadata": {
        "id": "6zNzirIfDhSo",
        "colab_type": "code",
        "outputId": "d91e7a0b-d7a9-4667-8956-a292cf63a455",
        "colab": {
          "base_uri": "https://localhost:8080/",
          "height": 1000
        }
      },
      "source": [
        "# 훈련데이터 셋\n",
        "y_train = train_merged['isFraud']\n",
        "X_train = train_merged.drop([ 'TransactionID', 'isFraud'], axis=1)\n",
        "\n",
        "# 훈련데이터셋에서 학습용(pre_X/y_train), 시험용(pre_X/y_test) 으로 나눈다.\n",
        "pre_X_train, pre_X_test, pre_y_train, pre_y_test = train_test_split(X_train, \n",
        "                                                                    y_train, \n",
        "                                                                    test_size=0.2, \n",
        "                                                                    random_state=156)\n",
        "\n",
        "\n",
        "# lgbm 모델 클래스를 부른다.\n",
        "lgbm_clf = LGBMClassifier(n_estimators=500) # 500번 학습..\n",
        "evals = [ (pre_X_test, pre_y_test)]\n",
        "lgbm_clf.fit(pre_X_train, \n",
        "             pre_y_train, \n",
        "             early_stopping_rounds=100,\n",
        "             eval_metric='auc',\n",
        "             eval_set=evals,\n",
        "             verbose=True\n",
        "            )\n",
        "\n",
        "pre_lgbm_roc_score = roc_auc_score(pre_y_test, lgbm_clf.predict_proba(pre_X_test)[:,1], average='macro')\n",
        "print('pre-training-ROC AUC: {:.4f}'.format(pre_lgbm_roc_score))"
      ],
      "execution_count": 0,
      "outputs": [
        {
          "output_type": "stream",
          "text": [
            "[1]\tvalid_0's auc: 0.803343\tvalid_0's binary_logloss: 0.129035\n",
            "Training until validation scores don't improve for 100 rounds.\n",
            "[2]\tvalid_0's auc: 0.851446\tvalid_0's binary_logloss: 0.123012\n",
            "[3]\tvalid_0's auc: 0.857778\tvalid_0's binary_logloss: 0.118833\n",
            "[4]\tvalid_0's auc: 0.860174\tvalid_0's binary_logloss: 0.115555\n",
            "[5]\tvalid_0's auc: 0.867529\tvalid_0's binary_logloss: 0.112351\n",
            "[6]\tvalid_0's auc: 0.870808\tvalid_0's binary_logloss: 0.109955\n",
            "[7]\tvalid_0's auc: 0.872056\tvalid_0's binary_logloss: 0.107817\n",
            "[8]\tvalid_0's auc: 0.87528\tvalid_0's binary_logloss: 0.105806\n",
            "[9]\tvalid_0's auc: 0.877114\tvalid_0's binary_logloss: 0.104226\n",
            "[10]\tvalid_0's auc: 0.879373\tvalid_0's binary_logloss: 0.102584\n",
            "[11]\tvalid_0's auc: 0.880525\tvalid_0's binary_logloss: 0.101211\n",
            "[12]\tvalid_0's auc: 0.882033\tvalid_0's binary_logloss: 0.0999179\n",
            "[13]\tvalid_0's auc: 0.883774\tvalid_0's binary_logloss: 0.0987526\n",
            "[14]\tvalid_0's auc: 0.885403\tvalid_0's binary_logloss: 0.0978287\n",
            "[15]\tvalid_0's auc: 0.886502\tvalid_0's binary_logloss: 0.0968062\n",
            "[16]\tvalid_0's auc: 0.888689\tvalid_0's binary_logloss: 0.0958461\n",
            "[17]\tvalid_0's auc: 0.889885\tvalid_0's binary_logloss: 0.0951378\n",
            "[18]\tvalid_0's auc: 0.891619\tvalid_0's binary_logloss: 0.0942686\n",
            "[19]\tvalid_0's auc: 0.892518\tvalid_0's binary_logloss: 0.0937172\n",
            "[20]\tvalid_0's auc: 0.893896\tvalid_0's binary_logloss: 0.0930344\n",
            "[21]\tvalid_0's auc: 0.895438\tvalid_0's binary_logloss: 0.0923296\n",
            "[22]\tvalid_0's auc: 0.896264\tvalid_0's binary_logloss: 0.0918201\n",
            "[23]\tvalid_0's auc: 0.89683\tvalid_0's binary_logloss: 0.0913359\n",
            "[24]\tvalid_0's auc: 0.898411\tvalid_0's binary_logloss: 0.0907319\n",
            "[25]\tvalid_0's auc: 0.900258\tvalid_0's binary_logloss: 0.0900471\n",
            "[26]\tvalid_0's auc: 0.900972\tvalid_0's binary_logloss: 0.089607\n",
            "[27]\tvalid_0's auc: 0.901952\tvalid_0's binary_logloss: 0.0890597\n",
            "[28]\tvalid_0's auc: 0.903683\tvalid_0's binary_logloss: 0.0883612\n",
            "[29]\tvalid_0's auc: 0.905156\tvalid_0's binary_logloss: 0.0878628\n",
            "[30]\tvalid_0's auc: 0.90633\tvalid_0's binary_logloss: 0.0874168\n",
            "[31]\tvalid_0's auc: 0.906928\tvalid_0's binary_logloss: 0.0870868\n",
            "[32]\tvalid_0's auc: 0.90743\tvalid_0's binary_logloss: 0.0867641\n",
            "[33]\tvalid_0's auc: 0.908026\tvalid_0's binary_logloss: 0.0863784\n",
            "[34]\tvalid_0's auc: 0.909184\tvalid_0's binary_logloss: 0.0859742\n",
            "[35]\tvalid_0's auc: 0.909559\tvalid_0's binary_logloss: 0.0856484\n",
            "[36]\tvalid_0's auc: 0.909991\tvalid_0's binary_logloss: 0.0853762\n",
            "[37]\tvalid_0's auc: 0.910267\tvalid_0's binary_logloss: 0.0851062\n",
            "[38]\tvalid_0's auc: 0.910881\tvalid_0's binary_logloss: 0.0848009\n",
            "[39]\tvalid_0's auc: 0.912013\tvalid_0's binary_logloss: 0.0844043\n",
            "[40]\tvalid_0's auc: 0.912661\tvalid_0's binary_logloss: 0.0841363\n",
            "[41]\tvalid_0's auc: 0.913306\tvalid_0's binary_logloss: 0.08386\n",
            "[42]\tvalid_0's auc: 0.914066\tvalid_0's binary_logloss: 0.0835877\n",
            "[43]\tvalid_0's auc: 0.914417\tvalid_0's binary_logloss: 0.0834051\n",
            "[44]\tvalid_0's auc: 0.914964\tvalid_0's binary_logloss: 0.0831848\n",
            "[45]\tvalid_0's auc: 0.915321\tvalid_0's binary_logloss: 0.0829265\n",
            "[46]\tvalid_0's auc: 0.916429\tvalid_0's binary_logloss: 0.0824957\n",
            "[47]\tvalid_0's auc: 0.917289\tvalid_0's binary_logloss: 0.0821944\n",
            "[48]\tvalid_0's auc: 0.918043\tvalid_0's binary_logloss: 0.0819551\n",
            "[49]\tvalid_0's auc: 0.919237\tvalid_0's binary_logloss: 0.0816383\n",
            "[50]\tvalid_0's auc: 0.919929\tvalid_0's binary_logloss: 0.0813417\n",
            "[51]\tvalid_0's auc: 0.920248\tvalid_0's binary_logloss: 0.081103\n",
            "[52]\tvalid_0's auc: 0.920443\tvalid_0's binary_logloss: 0.0809727\n",
            "[53]\tvalid_0's auc: 0.921596\tvalid_0's binary_logloss: 0.0805888\n",
            "[54]\tvalid_0's auc: 0.922376\tvalid_0's binary_logloss: 0.0803063\n",
            "[55]\tvalid_0's auc: 0.922739\tvalid_0's binary_logloss: 0.080085\n",
            "[56]\tvalid_0's auc: 0.923004\tvalid_0's binary_logloss: 0.0798957\n",
            "[57]\tvalid_0's auc: 0.923374\tvalid_0's binary_logloss: 0.0796845\n",
            "[58]\tvalid_0's auc: 0.923825\tvalid_0's binary_logloss: 0.079466\n",
            "[59]\tvalid_0's auc: 0.924527\tvalid_0's binary_logloss: 0.0792616\n",
            "[60]\tvalid_0's auc: 0.924793\tvalid_0's binary_logloss: 0.0790848\n",
            "[61]\tvalid_0's auc: 0.924979\tvalid_0's binary_logloss: 0.0789139\n",
            "[62]\tvalid_0's auc: 0.925309\tvalid_0's binary_logloss: 0.0787388\n",
            "[63]\tvalid_0's auc: 0.925535\tvalid_0's binary_logloss: 0.0786182\n",
            "[64]\tvalid_0's auc: 0.925946\tvalid_0's binary_logloss: 0.0784403\n",
            "[65]\tvalid_0's auc: 0.926136\tvalid_0's binary_logloss: 0.0782947\n",
            "[66]\tvalid_0's auc: 0.926276\tvalid_0's binary_logloss: 0.0781384\n",
            "[67]\tvalid_0's auc: 0.9265\tvalid_0's binary_logloss: 0.0780851\n",
            "[68]\tvalid_0's auc: 0.926899\tvalid_0's binary_logloss: 0.0779192\n",
            "[69]\tvalid_0's auc: 0.927218\tvalid_0's binary_logloss: 0.0777848\n",
            "[70]\tvalid_0's auc: 0.927594\tvalid_0's binary_logloss: 0.0776365\n",
            "[71]\tvalid_0's auc: 0.928078\tvalid_0's binary_logloss: 0.0774505\n",
            "[72]\tvalid_0's auc: 0.928285\tvalid_0's binary_logloss: 0.0773068\n",
            "[73]\tvalid_0's auc: 0.928457\tvalid_0's binary_logloss: 0.0772086\n",
            "[74]\tvalid_0's auc: 0.928634\tvalid_0's binary_logloss: 0.0770796\n",
            "[75]\tvalid_0's auc: 0.92891\tvalid_0's binary_logloss: 0.0769581\n",
            "[76]\tvalid_0's auc: 0.929089\tvalid_0's binary_logloss: 0.0768513\n",
            "[77]\tvalid_0's auc: 0.929417\tvalid_0's binary_logloss: 0.0767161\n",
            "[78]\tvalid_0's auc: 0.929507\tvalid_0's binary_logloss: 0.0766235\n",
            "[79]\tvalid_0's auc: 0.929777\tvalid_0's binary_logloss: 0.0764273\n",
            "[80]\tvalid_0's auc: 0.9303\tvalid_0's binary_logloss: 0.0762542\n",
            "[81]\tvalid_0's auc: 0.930449\tvalid_0's binary_logloss: 0.0761386\n",
            "[82]\tvalid_0's auc: 0.930617\tvalid_0's binary_logloss: 0.0759724\n",
            "[83]\tvalid_0's auc: 0.930763\tvalid_0's binary_logloss: 0.0758706\n",
            "[84]\tvalid_0's auc: 0.930949\tvalid_0's binary_logloss: 0.0757666\n",
            "[85]\tvalid_0's auc: 0.931079\tvalid_0's binary_logloss: 0.0756819\n",
            "[86]\tvalid_0's auc: 0.931182\tvalid_0's binary_logloss: 0.0756559\n",
            "[87]\tvalid_0's auc: 0.931306\tvalid_0's binary_logloss: 0.0755404\n",
            "[88]\tvalid_0's auc: 0.9315\tvalid_0's binary_logloss: 0.0754271\n",
            "[89]\tvalid_0's auc: 0.931922\tvalid_0's binary_logloss: 0.0753101\n",
            "[90]\tvalid_0's auc: 0.932154\tvalid_0's binary_logloss: 0.0752212\n",
            "[91]\tvalid_0's auc: 0.932219\tvalid_0's binary_logloss: 0.0751552\n",
            "[92]\tvalid_0's auc: 0.932774\tvalid_0's binary_logloss: 0.0754368\n",
            "[93]\tvalid_0's auc: 0.932958\tvalid_0's binary_logloss: 0.0753359\n",
            "[94]\tvalid_0's auc: 0.933068\tvalid_0's binary_logloss: 0.0752926\n",
            "[95]\tvalid_0's auc: 0.933338\tvalid_0's binary_logloss: 0.0751841\n",
            "[96]\tvalid_0's auc: 0.933861\tvalid_0's binary_logloss: 0.0750518\n",
            "[97]\tvalid_0's auc: 0.93429\tvalid_0's binary_logloss: 0.0749344\n",
            "[98]\tvalid_0's auc: 0.934423\tvalid_0's binary_logloss: 0.0748465\n",
            "[99]\tvalid_0's auc: 0.934534\tvalid_0's binary_logloss: 0.0747616\n",
            "[100]\tvalid_0's auc: 0.934682\tvalid_0's binary_logloss: 0.0746842\n",
            "[101]\tvalid_0's auc: 0.934734\tvalid_0's binary_logloss: 0.0746032\n",
            "[102]\tvalid_0's auc: 0.934859\tvalid_0's binary_logloss: 0.0745376\n",
            "[103]\tvalid_0's auc: 0.935101\tvalid_0's binary_logloss: 0.0744224\n",
            "[104]\tvalid_0's auc: 0.93522\tvalid_0's binary_logloss: 0.074337\n",
            "[105]\tvalid_0's auc: 0.935341\tvalid_0's binary_logloss: 0.074226\n",
            "[106]\tvalid_0's auc: 0.935686\tvalid_0's binary_logloss: 0.0740792\n",
            "[107]\tvalid_0's auc: 0.935718\tvalid_0's binary_logloss: 0.0740078\n",
            "[108]\tvalid_0's auc: 0.935859\tvalid_0's binary_logloss: 0.0739091\n",
            "[109]\tvalid_0's auc: 0.935932\tvalid_0's binary_logloss: 0.0738281\n",
            "[110]\tvalid_0's auc: 0.936041\tvalid_0's binary_logloss: 0.0737099\n",
            "[111]\tvalid_0's auc: 0.936127\tvalid_0's binary_logloss: 0.0736455\n",
            "[112]\tvalid_0's auc: 0.936643\tvalid_0's binary_logloss: 0.0734542\n",
            "[113]\tvalid_0's auc: 0.936707\tvalid_0's binary_logloss: 0.0733982\n",
            "[114]\tvalid_0's auc: 0.93693\tvalid_0's binary_logloss: 0.0732694\n",
            "[115]\tvalid_0's auc: 0.93699\tvalid_0's binary_logloss: 0.0732291\n",
            "[116]\tvalid_0's auc: 0.937221\tvalid_0's binary_logloss: 0.0730866\n",
            "[117]\tvalid_0's auc: 0.937386\tvalid_0's binary_logloss: 0.0729825\n",
            "[118]\tvalid_0's auc: 0.937495\tvalid_0's binary_logloss: 0.0728978\n",
            "[119]\tvalid_0's auc: 0.937561\tvalid_0's binary_logloss: 0.0728207\n",
            "[120]\tvalid_0's auc: 0.937645\tvalid_0's binary_logloss: 0.0727419\n",
            "[121]\tvalid_0's auc: 0.937812\tvalid_0's binary_logloss: 0.0726598\n",
            "[122]\tvalid_0's auc: 0.937866\tvalid_0's binary_logloss: 0.072601\n",
            "[123]\tvalid_0's auc: 0.937926\tvalid_0's binary_logloss: 0.0725563\n",
            "[124]\tvalid_0's auc: 0.938093\tvalid_0's binary_logloss: 0.0724451\n",
            "[125]\tvalid_0's auc: 0.938129\tvalid_0's binary_logloss: 0.0723934\n",
            "[126]\tvalid_0's auc: 0.938215\tvalid_0's binary_logloss: 0.0723009\n",
            "[127]\tvalid_0's auc: 0.938291\tvalid_0's binary_logloss: 0.0722393\n",
            "[128]\tvalid_0's auc: 0.938367\tvalid_0's binary_logloss: 0.0721551\n",
            "[129]\tvalid_0's auc: 0.938387\tvalid_0's binary_logloss: 0.0721046\n",
            "[130]\tvalid_0's auc: 0.938454\tvalid_0's binary_logloss: 0.0720709\n",
            "[131]\tvalid_0's auc: 0.938613\tvalid_0's binary_logloss: 0.0720069\n",
            "[132]\tvalid_0's auc: 0.938745\tvalid_0's binary_logloss: 0.0719281\n",
            "[133]\tvalid_0's auc: 0.938838\tvalid_0's binary_logloss: 0.0718702\n",
            "[134]\tvalid_0's auc: 0.93887\tvalid_0's binary_logloss: 0.0718184\n",
            "[135]\tvalid_0's auc: 0.93922\tvalid_0's binary_logloss: 0.0717564\n",
            "[136]\tvalid_0's auc: 0.939514\tvalid_0's binary_logloss: 0.0716593\n",
            "[137]\tvalid_0's auc: 0.939683\tvalid_0's binary_logloss: 0.0715966\n",
            "[138]\tvalid_0's auc: 0.939762\tvalid_0's binary_logloss: 0.0715428\n",
            "[139]\tvalid_0's auc: 0.939831\tvalid_0's binary_logloss: 0.0714855\n",
            "[140]\tvalid_0's auc: 0.939847\tvalid_0's binary_logloss: 0.0714304\n",
            "[141]\tvalid_0's auc: 0.939979\tvalid_0's binary_logloss: 0.0713748\n",
            "[142]\tvalid_0's auc: 0.940047\tvalid_0's binary_logloss: 0.0713259\n",
            "[143]\tvalid_0's auc: 0.940071\tvalid_0's binary_logloss: 0.071281\n",
            "[144]\tvalid_0's auc: 0.940072\tvalid_0's binary_logloss: 0.0712566\n",
            "[145]\tvalid_0's auc: 0.940158\tvalid_0's binary_logloss: 0.0711895\n",
            "[146]\tvalid_0's auc: 0.940211\tvalid_0's binary_logloss: 0.0711239\n",
            "[147]\tvalid_0's auc: 0.940295\tvalid_0's binary_logloss: 0.0710785\n",
            "[148]\tvalid_0's auc: 0.940389\tvalid_0's binary_logloss: 0.071011\n",
            "[149]\tvalid_0's auc: 0.940763\tvalid_0's binary_logloss: 0.0709113\n",
            "[150]\tvalid_0's auc: 0.940833\tvalid_0's binary_logloss: 0.0708631\n",
            "[151]\tvalid_0's auc: 0.940992\tvalid_0's binary_logloss: 0.0707923\n",
            "[152]\tvalid_0's auc: 0.941083\tvalid_0's binary_logloss: 0.0707376\n",
            "[153]\tvalid_0's auc: 0.941222\tvalid_0's binary_logloss: 0.0706382\n",
            "[154]\tvalid_0's auc: 0.941301\tvalid_0's binary_logloss: 0.0705547\n",
            "[155]\tvalid_0's auc: 0.941371\tvalid_0's binary_logloss: 0.0704904\n",
            "[156]\tvalid_0's auc: 0.941754\tvalid_0's binary_logloss: 0.0703344\n",
            "[157]\tvalid_0's auc: 0.941845\tvalid_0's binary_logloss: 0.0702691\n",
            "[158]\tvalid_0's auc: 0.941859\tvalid_0's binary_logloss: 0.070245\n",
            "[159]\tvalid_0's auc: 0.941884\tvalid_0's binary_logloss: 0.0702032\n",
            "[160]\tvalid_0's auc: 0.941933\tvalid_0's binary_logloss: 0.070144\n",
            "[161]\tvalid_0's auc: 0.942093\tvalid_0's binary_logloss: 0.0700983\n",
            "[162]\tvalid_0's auc: 0.942184\tvalid_0's binary_logloss: 0.0700325\n",
            "[163]\tvalid_0's auc: 0.942173\tvalid_0's binary_logloss: 0.0700382\n",
            "[164]\tvalid_0's auc: 0.942217\tvalid_0's binary_logloss: 0.0699857\n",
            "[165]\tvalid_0's auc: 0.942253\tvalid_0's binary_logloss: 0.0699415\n",
            "[166]\tvalid_0's auc: 0.94231\tvalid_0's binary_logloss: 0.0698978\n",
            "[167]\tvalid_0's auc: 0.942342\tvalid_0's binary_logloss: 0.0698504\n",
            "[168]\tvalid_0's auc: 0.94241\tvalid_0's binary_logloss: 0.0697826\n",
            "[169]\tvalid_0's auc: 0.942531\tvalid_0's binary_logloss: 0.0697378\n",
            "[170]\tvalid_0's auc: 0.942962\tvalid_0's binary_logloss: 0.0696181\n",
            "[171]\tvalid_0's auc: 0.943132\tvalid_0's binary_logloss: 0.069558\n",
            "[172]\tvalid_0's auc: 0.943142\tvalid_0's binary_logloss: 0.0695402\n",
            "[173]\tvalid_0's auc: 0.943163\tvalid_0's binary_logloss: 0.0695159\n",
            "[174]\tvalid_0's auc: 0.943215\tvalid_0's binary_logloss: 0.0694711\n",
            "[175]\tvalid_0's auc: 0.943247\tvalid_0's binary_logloss: 0.0694283\n",
            "[176]\tvalid_0's auc: 0.943341\tvalid_0's binary_logloss: 0.0693432\n",
            "[177]\tvalid_0's auc: 0.943437\tvalid_0's binary_logloss: 0.0692859\n",
            "[178]\tvalid_0's auc: 0.943518\tvalid_0's binary_logloss: 0.0692059\n",
            "[179]\tvalid_0's auc: 0.943717\tvalid_0's binary_logloss: 0.0691156\n",
            "[180]\tvalid_0's auc: 0.943777\tvalid_0's binary_logloss: 0.0690711\n",
            "[181]\tvalid_0's auc: 0.943987\tvalid_0's binary_logloss: 0.0689662\n",
            "[182]\tvalid_0's auc: 0.94416\tvalid_0's binary_logloss: 0.0688485\n",
            "[183]\tvalid_0's auc: 0.944312\tvalid_0's binary_logloss: 0.0687523\n",
            "[184]\tvalid_0's auc: 0.944887\tvalid_0's binary_logloss: 0.0685442\n",
            "[185]\tvalid_0's auc: 0.94519\tvalid_0's binary_logloss: 0.0683984\n",
            "[186]\tvalid_0's auc: 0.945286\tvalid_0's binary_logloss: 0.068323\n",
            "[187]\tvalid_0's auc: 0.945335\tvalid_0's binary_logloss: 0.0682842\n",
            "[188]\tvalid_0's auc: 0.945414\tvalid_0's binary_logloss: 0.0682014\n",
            "[189]\tvalid_0's auc: 0.945644\tvalid_0's binary_logloss: 0.0681082\n",
            "[190]\tvalid_0's auc: 0.945678\tvalid_0's binary_logloss: 0.0680482\n",
            "[191]\tvalid_0's auc: 0.945738\tvalid_0's binary_logloss: 0.0679983\n",
            "[192]\tvalid_0's auc: 0.945783\tvalid_0's binary_logloss: 0.067966\n",
            "[193]\tvalid_0's auc: 0.94581\tvalid_0's binary_logloss: 0.067939\n",
            "[194]\tvalid_0's auc: 0.945863\tvalid_0's binary_logloss: 0.0678967\n",
            "[195]\tvalid_0's auc: 0.94588\tvalid_0's binary_logloss: 0.0678707\n",
            "[196]\tvalid_0's auc: 0.945924\tvalid_0's binary_logloss: 0.0678341\n",
            "[197]\tvalid_0's auc: 0.946155\tvalid_0's binary_logloss: 0.0677441\n",
            "[198]\tvalid_0's auc: 0.946201\tvalid_0's binary_logloss: 0.067695\n",
            "[199]\tvalid_0's auc: 0.946324\tvalid_0's binary_logloss: 0.0676304\n",
            "[200]\tvalid_0's auc: 0.946607\tvalid_0's binary_logloss: 0.0675613\n",
            "[201]\tvalid_0's auc: 0.946902\tvalid_0's binary_logloss: 0.0674258\n",
            "[202]\tvalid_0's auc: 0.947106\tvalid_0's binary_logloss: 0.0673419\n",
            "[203]\tvalid_0's auc: 0.947188\tvalid_0's binary_logloss: 0.0672589\n",
            "[204]\tvalid_0's auc: 0.94723\tvalid_0's binary_logloss: 0.0672229\n",
            "[205]\tvalid_0's auc: 0.947255\tvalid_0's binary_logloss: 0.0671931\n",
            "[206]\tvalid_0's auc: 0.947334\tvalid_0's binary_logloss: 0.0671552\n",
            "[207]\tvalid_0's auc: 0.947349\tvalid_0's binary_logloss: 0.0671435\n",
            "[208]\tvalid_0's auc: 0.947333\tvalid_0's binary_logloss: 0.0671327\n",
            "[209]\tvalid_0's auc: 0.947406\tvalid_0's binary_logloss: 0.0670838\n",
            "[210]\tvalid_0's auc: 0.947518\tvalid_0's binary_logloss: 0.0670211\n",
            "[211]\tvalid_0's auc: 0.947612\tvalid_0's binary_logloss: 0.0669847\n",
            "[212]\tvalid_0's auc: 0.947672\tvalid_0's binary_logloss: 0.0669318\n",
            "[213]\tvalid_0's auc: 0.947738\tvalid_0's binary_logloss: 0.0668624\n",
            "[214]\tvalid_0's auc: 0.947728\tvalid_0's binary_logloss: 0.0668219\n",
            "[215]\tvalid_0's auc: 0.947778\tvalid_0's binary_logloss: 0.0667857\n",
            "[216]\tvalid_0's auc: 0.947816\tvalid_0's binary_logloss: 0.0667579\n",
            "[217]\tvalid_0's auc: 0.947864\tvalid_0's binary_logloss: 0.0667045\n",
            "[218]\tvalid_0's auc: 0.947899\tvalid_0's binary_logloss: 0.0666793\n",
            "[219]\tvalid_0's auc: 0.947889\tvalid_0's binary_logloss: 0.0666659\n",
            "[220]\tvalid_0's auc: 0.94794\tvalid_0's binary_logloss: 0.0666277\n",
            "[221]\tvalid_0's auc: 0.94803\tvalid_0's binary_logloss: 0.0665829\n",
            "[222]\tvalid_0's auc: 0.948094\tvalid_0's binary_logloss: 0.0665509\n",
            "[223]\tvalid_0's auc: 0.948127\tvalid_0's binary_logloss: 0.0665111\n",
            "[224]\tvalid_0's auc: 0.948131\tvalid_0's binary_logloss: 0.0664878\n",
            "[225]\tvalid_0's auc: 0.948145\tvalid_0's binary_logloss: 0.066433\n",
            "[226]\tvalid_0's auc: 0.94819\tvalid_0's binary_logloss: 0.0663885\n",
            "[227]\tvalid_0's auc: 0.948301\tvalid_0's binary_logloss: 0.0663317\n",
            "[228]\tvalid_0's auc: 0.948346\tvalid_0's binary_logloss: 0.0663024\n",
            "[229]\tvalid_0's auc: 0.948365\tvalid_0's binary_logloss: 0.066269\n",
            "[230]\tvalid_0's auc: 0.948392\tvalid_0's binary_logloss: 0.0662332\n",
            "[231]\tvalid_0's auc: 0.948488\tvalid_0's binary_logloss: 0.0661754\n",
            "[232]\tvalid_0's auc: 0.94853\tvalid_0's binary_logloss: 0.0661514\n",
            "[233]\tvalid_0's auc: 0.949022\tvalid_0's binary_logloss: 0.0660382\n",
            "[234]\tvalid_0's auc: 0.949057\tvalid_0's binary_logloss: 0.0660006\n",
            "[235]\tvalid_0's auc: 0.949073\tvalid_0's binary_logloss: 0.0659765\n",
            "[236]\tvalid_0's auc: 0.949113\tvalid_0's binary_logloss: 0.065951\n",
            "[237]\tvalid_0's auc: 0.949132\tvalid_0's binary_logloss: 0.0659067\n",
            "[238]\tvalid_0's auc: 0.949164\tvalid_0's binary_logloss: 0.0658714\n",
            "[239]\tvalid_0's auc: 0.94935\tvalid_0's binary_logloss: 0.0657862\n",
            "[240]\tvalid_0's auc: 0.949343\tvalid_0's binary_logloss: 0.0657744\n",
            "[241]\tvalid_0's auc: 0.949367\tvalid_0's binary_logloss: 0.0657332\n",
            "[242]\tvalid_0's auc: 0.949468\tvalid_0's binary_logloss: 0.06568\n",
            "[243]\tvalid_0's auc: 0.949497\tvalid_0's binary_logloss: 0.0656501\n",
            "[244]\tvalid_0's auc: 0.949496\tvalid_0's binary_logloss: 0.0656364\n",
            "[245]\tvalid_0's auc: 0.949568\tvalid_0's binary_logloss: 0.065598\n",
            "[246]\tvalid_0's auc: 0.94955\tvalid_0's binary_logloss: 0.0655967\n",
            "[247]\tvalid_0's auc: 0.94957\tvalid_0's binary_logloss: 0.0655735\n",
            "[248]\tvalid_0's auc: 0.949594\tvalid_0's binary_logloss: 0.0655585\n",
            "[249]\tvalid_0's auc: 0.949628\tvalid_0's binary_logloss: 0.0655213\n",
            "[250]\tvalid_0's auc: 0.94966\tvalid_0's binary_logloss: 0.0655064\n",
            "[251]\tvalid_0's auc: 0.949713\tvalid_0's binary_logloss: 0.0654522\n",
            "[252]\tvalid_0's auc: 0.949717\tvalid_0's binary_logloss: 0.0654333\n",
            "[253]\tvalid_0's auc: 0.949757\tvalid_0's binary_logloss: 0.0654061\n",
            "[254]\tvalid_0's auc: 0.949774\tvalid_0's binary_logloss: 0.0653888\n",
            "[255]\tvalid_0's auc: 0.950016\tvalid_0's binary_logloss: 0.065268\n",
            "[256]\tvalid_0's auc: 0.950066\tvalid_0's binary_logloss: 0.0652408\n",
            "[257]\tvalid_0's auc: 0.950094\tvalid_0's binary_logloss: 0.0652071\n",
            "[258]\tvalid_0's auc: 0.950121\tvalid_0's binary_logloss: 0.065187\n",
            "[259]\tvalid_0's auc: 0.950161\tvalid_0's binary_logloss: 0.0651189\n",
            "[260]\tvalid_0's auc: 0.95017\tvalid_0's binary_logloss: 0.065104\n",
            "[261]\tvalid_0's auc: 0.950199\tvalid_0's binary_logloss: 0.0650781\n",
            "[262]\tvalid_0's auc: 0.950263\tvalid_0's binary_logloss: 0.0650223\n",
            "[263]\tvalid_0's auc: 0.950297\tvalid_0's binary_logloss: 0.0649902\n",
            "[264]\tvalid_0's auc: 0.950394\tvalid_0's binary_logloss: 0.0649451\n",
            "[265]\tvalid_0's auc: 0.950474\tvalid_0's binary_logloss: 0.0648782\n",
            "[266]\tvalid_0's auc: 0.950506\tvalid_0's binary_logloss: 0.0648141\n",
            "[267]\tvalid_0's auc: 0.950507\tvalid_0's binary_logloss: 0.0647959\n",
            "[268]\tvalid_0's auc: 0.950526\tvalid_0's binary_logloss: 0.064773\n",
            "[269]\tvalid_0's auc: 0.950604\tvalid_0's binary_logloss: 0.0647089\n",
            "[270]\tvalid_0's auc: 0.950577\tvalid_0's binary_logloss: 0.0646995\n",
            "[271]\tvalid_0's auc: 0.950589\tvalid_0's binary_logloss: 0.064675\n",
            "[272]\tvalid_0's auc: 0.950619\tvalid_0's binary_logloss: 0.0646221\n",
            "[273]\tvalid_0's auc: 0.950645\tvalid_0's binary_logloss: 0.0645922\n",
            "[274]\tvalid_0's auc: 0.950655\tvalid_0's binary_logloss: 0.0645571\n",
            "[275]\tvalid_0's auc: 0.950707\tvalid_0's binary_logloss: 0.0645219\n",
            "[276]\tvalid_0's auc: 0.950757\tvalid_0's binary_logloss: 0.0644608\n",
            "[277]\tvalid_0's auc: 0.950755\tvalid_0's binary_logloss: 0.0644348\n",
            "[278]\tvalid_0's auc: 0.95087\tvalid_0's binary_logloss: 0.0643846\n",
            "[279]\tvalid_0's auc: 0.950883\tvalid_0's binary_logloss: 0.0643732\n",
            "[280]\tvalid_0's auc: 0.950929\tvalid_0's binary_logloss: 0.0643356\n",
            "[281]\tvalid_0's auc: 0.950987\tvalid_0's binary_logloss: 0.0643038\n",
            "[282]\tvalid_0's auc: 0.951033\tvalid_0's binary_logloss: 0.0642757\n",
            "[283]\tvalid_0's auc: 0.951043\tvalid_0's binary_logloss: 0.0642568\n",
            "[284]\tvalid_0's auc: 0.951137\tvalid_0's binary_logloss: 0.064199\n",
            "[285]\tvalid_0's auc: 0.951144\tvalid_0's binary_logloss: 0.0641742\n",
            "[286]\tvalid_0's auc: 0.951172\tvalid_0's binary_logloss: 0.0641304\n",
            "[287]\tvalid_0's auc: 0.951257\tvalid_0's binary_logloss: 0.0640817\n",
            "[288]\tvalid_0's auc: 0.951327\tvalid_0's binary_logloss: 0.0640183\n",
            "[289]\tvalid_0's auc: 0.951337\tvalid_0's binary_logloss: 0.0640111\n",
            "[290]\tvalid_0's auc: 0.951458\tvalid_0's binary_logloss: 0.0639596\n",
            "[291]\tvalid_0's auc: 0.951455\tvalid_0's binary_logloss: 0.063948\n",
            "[292]\tvalid_0's auc: 0.951462\tvalid_0's binary_logloss: 0.0639225\n",
            "[293]\tvalid_0's auc: 0.951473\tvalid_0's binary_logloss: 0.0638852\n",
            "[294]\tvalid_0's auc: 0.951538\tvalid_0's binary_logloss: 0.0638295\n",
            "[295]\tvalid_0's auc: 0.951938\tvalid_0's binary_logloss: 0.0637324\n",
            "[296]\tvalid_0's auc: 0.951993\tvalid_0's binary_logloss: 0.0636759\n",
            "[297]\tvalid_0's auc: 0.952013\tvalid_0's binary_logloss: 0.0636565\n",
            "[298]\tvalid_0's auc: 0.952045\tvalid_0's binary_logloss: 0.0636268\n",
            "[299]\tvalid_0's auc: 0.952071\tvalid_0's binary_logloss: 0.063604\n",
            "[300]\tvalid_0's auc: 0.952089\tvalid_0's binary_logloss: 0.0635864\n",
            "[301]\tvalid_0's auc: 0.952107\tvalid_0's binary_logloss: 0.0635687\n",
            "[302]\tvalid_0's auc: 0.952184\tvalid_0's binary_logloss: 0.0635129\n",
            "[303]\tvalid_0's auc: 0.952277\tvalid_0's binary_logloss: 0.063463\n",
            "[304]\tvalid_0's auc: 0.952271\tvalid_0's binary_logloss: 0.0634542\n",
            "[305]\tvalid_0's auc: 0.952324\tvalid_0's binary_logloss: 0.0634245\n",
            "[306]\tvalid_0's auc: 0.952393\tvalid_0's binary_logloss: 0.0633979\n",
            "[307]\tvalid_0's auc: 0.952396\tvalid_0's binary_logloss: 0.0633904\n",
            "[308]\tvalid_0's auc: 0.952509\tvalid_0's binary_logloss: 0.0633579\n",
            "[309]\tvalid_0's auc: 0.952521\tvalid_0's binary_logloss: 0.0633453\n",
            "[310]\tvalid_0's auc: 0.95254\tvalid_0's binary_logloss: 0.0633218\n",
            "[311]\tvalid_0's auc: 0.952554\tvalid_0's binary_logloss: 0.0632854\n",
            "[312]\tvalid_0's auc: 0.952622\tvalid_0's binary_logloss: 0.0632318\n",
            "[313]\tvalid_0's auc: 0.952665\tvalid_0's binary_logloss: 0.0632104\n",
            "[314]\tvalid_0's auc: 0.952713\tvalid_0's binary_logloss: 0.0631773\n",
            "[315]\tvalid_0's auc: 0.952727\tvalid_0's binary_logloss: 0.0631642\n",
            "[316]\tvalid_0's auc: 0.952733\tvalid_0's binary_logloss: 0.0631447\n",
            "[317]\tvalid_0's auc: 0.952732\tvalid_0's binary_logloss: 0.0631323\n",
            "[318]\tvalid_0's auc: 0.952717\tvalid_0's binary_logloss: 0.0631231\n",
            "[319]\tvalid_0's auc: 0.952766\tvalid_0's binary_logloss: 0.063112\n",
            "[320]\tvalid_0's auc: 0.952756\tvalid_0's binary_logloss: 0.0630875\n",
            "[321]\tvalid_0's auc: 0.952891\tvalid_0's binary_logloss: 0.0630187\n",
            "[322]\tvalid_0's auc: 0.952919\tvalid_0's binary_logloss: 0.0629796\n",
            "[323]\tvalid_0's auc: 0.95299\tvalid_0's binary_logloss: 0.0629345\n",
            "[324]\tvalid_0's auc: 0.953033\tvalid_0's binary_logloss: 0.0628888\n",
            "[325]\tvalid_0's auc: 0.953055\tvalid_0's binary_logloss: 0.0628801\n",
            "[326]\tvalid_0's auc: 0.953074\tvalid_0's binary_logloss: 0.0628709\n",
            "[327]\tvalid_0's auc: 0.953086\tvalid_0's binary_logloss: 0.0628553\n",
            "[328]\tvalid_0's auc: 0.953128\tvalid_0's binary_logloss: 0.0628332\n",
            "[329]\tvalid_0's auc: 0.953145\tvalid_0's binary_logloss: 0.0628089\n",
            "[330]\tvalid_0's auc: 0.953138\tvalid_0's binary_logloss: 0.062806\n",
            "[331]\tvalid_0's auc: 0.953171\tvalid_0's binary_logloss: 0.0627806\n",
            "[332]\tvalid_0's auc: 0.953233\tvalid_0's binary_logloss: 0.0627672\n",
            "[333]\tvalid_0's auc: 0.953336\tvalid_0's binary_logloss: 0.0627081\n",
            "[334]\tvalid_0's auc: 0.953374\tvalid_0's binary_logloss: 0.0626832\n",
            "[335]\tvalid_0's auc: 0.953446\tvalid_0's binary_logloss: 0.0626088\n",
            "[336]\tvalid_0's auc: 0.95347\tvalid_0's binary_logloss: 0.0625791\n",
            "[337]\tvalid_0's auc: 0.953534\tvalid_0's binary_logloss: 0.0625423\n",
            "[338]\tvalid_0's auc: 0.953569\tvalid_0's binary_logloss: 0.0625245\n",
            "[339]\tvalid_0's auc: 0.953582\tvalid_0's binary_logloss: 0.0625083\n",
            "[340]\tvalid_0's auc: 0.953576\tvalid_0's binary_logloss: 0.0625017\n",
            "[341]\tvalid_0's auc: 0.953562\tvalid_0's binary_logloss: 0.0624917\n",
            "[342]\tvalid_0's auc: 0.953596\tvalid_0's binary_logloss: 0.0624806\n",
            "[343]\tvalid_0's auc: 0.953541\tvalid_0's binary_logloss: 0.0624847\n",
            "[344]\tvalid_0's auc: 0.953498\tvalid_0's binary_logloss: 0.0624893\n",
            "[345]\tvalid_0's auc: 0.953506\tvalid_0's binary_logloss: 0.0624645\n",
            "[346]\tvalid_0's auc: 0.953464\tvalid_0's binary_logloss: 0.0624701\n",
            "[347]\tvalid_0's auc: 0.953538\tvalid_0's binary_logloss: 0.0624438\n",
            "[348]\tvalid_0's auc: 0.953717\tvalid_0's binary_logloss: 0.0623747\n",
            "[349]\tvalid_0's auc: 0.953785\tvalid_0's binary_logloss: 0.062328\n",
            "[350]\tvalid_0's auc: 0.953859\tvalid_0's binary_logloss: 0.0622854\n",
            "[351]\tvalid_0's auc: 0.9539\tvalid_0's binary_logloss: 0.0622498\n",
            "[352]\tvalid_0's auc: 0.953946\tvalid_0's binary_logloss: 0.0622347\n",
            "[353]\tvalid_0's auc: 0.953955\tvalid_0's binary_logloss: 0.062214\n",
            "[354]\tvalid_0's auc: 0.954006\tvalid_0's binary_logloss: 0.0621842\n",
            "[355]\tvalid_0's auc: 0.954063\tvalid_0's binary_logloss: 0.0621357\n",
            "[356]\tvalid_0's auc: 0.954106\tvalid_0's binary_logloss: 0.0620968\n",
            "[357]\tvalid_0's auc: 0.954166\tvalid_0's binary_logloss: 0.0620636\n",
            "[358]\tvalid_0's auc: 0.954187\tvalid_0's binary_logloss: 0.0620439\n",
            "[359]\tvalid_0's auc: 0.954191\tvalid_0's binary_logloss: 0.0620103\n",
            "[360]\tvalid_0's auc: 0.954208\tvalid_0's binary_logloss: 0.0619829\n",
            "[361]\tvalid_0's auc: 0.954213\tvalid_0's binary_logloss: 0.0619639\n",
            "[362]\tvalid_0's auc: 0.954234\tvalid_0's binary_logloss: 0.0619393\n",
            "[363]\tvalid_0's auc: 0.954273\tvalid_0's binary_logloss: 0.0619089\n",
            "[364]\tvalid_0's auc: 0.954292\tvalid_0's binary_logloss: 0.0618729\n",
            "[365]\tvalid_0's auc: 0.954327\tvalid_0's binary_logloss: 0.0618514\n",
            "[366]\tvalid_0's auc: 0.954678\tvalid_0's binary_logloss: 0.0617591\n",
            "[367]\tvalid_0's auc: 0.954646\tvalid_0's binary_logloss: 0.0617571\n",
            "[368]\tvalid_0's auc: 0.954681\tvalid_0's binary_logloss: 0.0617401\n",
            "[369]\tvalid_0's auc: 0.954708\tvalid_0's binary_logloss: 0.0617288\n",
            "[370]\tvalid_0's auc: 0.954744\tvalid_0's binary_logloss: 0.061707\n",
            "[371]\tvalid_0's auc: 0.954764\tvalid_0's binary_logloss: 0.0616643\n",
            "[372]\tvalid_0's auc: 0.954769\tvalid_0's binary_logloss: 0.0616355\n",
            "[373]\tvalid_0's auc: 0.954798\tvalid_0's binary_logloss: 0.0615765\n",
            "[374]\tvalid_0's auc: 0.95484\tvalid_0's binary_logloss: 0.0615376\n",
            "[375]\tvalid_0's auc: 0.954902\tvalid_0's binary_logloss: 0.0615\n",
            "[376]\tvalid_0's auc: 0.954968\tvalid_0's binary_logloss: 0.0614719\n",
            "[377]\tvalid_0's auc: 0.955086\tvalid_0's binary_logloss: 0.0614163\n",
            "[378]\tvalid_0's auc: 0.955103\tvalid_0's binary_logloss: 0.0613962\n",
            "[379]\tvalid_0's auc: 0.955133\tvalid_0's binary_logloss: 0.0613548\n",
            "[380]\tvalid_0's auc: 0.955173\tvalid_0's binary_logloss: 0.0613225\n",
            "[381]\tvalid_0's auc: 0.955404\tvalid_0's binary_logloss: 0.0613226\n",
            "[382]\tvalid_0's auc: 0.955426\tvalid_0's binary_logloss: 0.0612715\n",
            "[383]\tvalid_0's auc: 0.955477\tvalid_0's binary_logloss: 0.0612206\n",
            "[384]\tvalid_0's auc: 0.955579\tvalid_0's binary_logloss: 0.0611817\n",
            "[385]\tvalid_0's auc: 0.955745\tvalid_0's binary_logloss: 0.0611267\n",
            "[386]\tvalid_0's auc: 0.955779\tvalid_0's binary_logloss: 0.0611\n",
            "[387]\tvalid_0's auc: 0.955817\tvalid_0's binary_logloss: 0.0610762\n",
            "[388]\tvalid_0's auc: 0.955869\tvalid_0's binary_logloss: 0.0610408\n",
            "[389]\tvalid_0's auc: 0.955921\tvalid_0's binary_logloss: 0.0610259\n",
            "[390]\tvalid_0's auc: 0.955963\tvalid_0's binary_logloss: 0.0609981\n",
            "[391]\tvalid_0's auc: 0.956009\tvalid_0's binary_logloss: 0.0609653\n",
            "[392]\tvalid_0's auc: 0.956038\tvalid_0's binary_logloss: 0.060928\n",
            "[393]\tvalid_0's auc: 0.956049\tvalid_0's binary_logloss: 0.0609116\n",
            "[394]\tvalid_0's auc: 0.956081\tvalid_0's binary_logloss: 0.0608956\n",
            "[395]\tvalid_0's auc: 0.956129\tvalid_0's binary_logloss: 0.0608763\n",
            "[396]\tvalid_0's auc: 0.95616\tvalid_0's binary_logloss: 0.0608575\n",
            "[397]\tvalid_0's auc: 0.956168\tvalid_0's binary_logloss: 0.0608469\n",
            "[398]\tvalid_0's auc: 0.956227\tvalid_0's binary_logloss: 0.0608065\n",
            "[399]\tvalid_0's auc: 0.956239\tvalid_0's binary_logloss: 0.060796\n",
            "[400]\tvalid_0's auc: 0.956281\tvalid_0's binary_logloss: 0.0607557\n",
            "[401]\tvalid_0's auc: 0.956275\tvalid_0's binary_logloss: 0.0607407\n",
            "[402]\tvalid_0's auc: 0.956341\tvalid_0's binary_logloss: 0.0607155\n",
            "[403]\tvalid_0's auc: 0.956361\tvalid_0's binary_logloss: 0.0607031\n",
            "[404]\tvalid_0's auc: 0.956375\tvalid_0's binary_logloss: 0.0606866\n",
            "[405]\tvalid_0's auc: 0.956393\tvalid_0's binary_logloss: 0.0606708\n",
            "[406]\tvalid_0's auc: 0.956405\tvalid_0's binary_logloss: 0.0606672\n",
            "[407]\tvalid_0's auc: 0.956427\tvalid_0's binary_logloss: 0.0606403\n",
            "[408]\tvalid_0's auc: 0.956413\tvalid_0's binary_logloss: 0.0606316\n",
            "[409]\tvalid_0's auc: 0.956431\tvalid_0's binary_logloss: 0.0606084\n",
            "[410]\tvalid_0's auc: 0.956449\tvalid_0's binary_logloss: 0.060583\n",
            "[411]\tvalid_0's auc: 0.956457\tvalid_0's binary_logloss: 0.0606013\n",
            "[412]\tvalid_0's auc: 0.956517\tvalid_0's binary_logloss: 0.0605662\n",
            "[413]\tvalid_0's auc: 0.956541\tvalid_0's binary_logloss: 0.0605566\n",
            "[414]\tvalid_0's auc: 0.956579\tvalid_0's binary_logloss: 0.06052\n",
            "[415]\tvalid_0's auc: 0.956568\tvalid_0's binary_logloss: 0.0604969\n",
            "[416]\tvalid_0's auc: 0.95659\tvalid_0's binary_logloss: 0.0604594\n",
            "[417]\tvalid_0's auc: 0.956589\tvalid_0's binary_logloss: 0.0604317\n",
            "[418]\tvalid_0's auc: 0.956622\tvalid_0's binary_logloss: 0.0604018\n",
            "[419]\tvalid_0's auc: 0.956694\tvalid_0's binary_logloss: 0.0603553\n",
            "[420]\tvalid_0's auc: 0.956699\tvalid_0's binary_logloss: 0.0603443\n",
            "[421]\tvalid_0's auc: 0.956712\tvalid_0's binary_logloss: 0.0603273\n",
            "[422]\tvalid_0's auc: 0.956702\tvalid_0's binary_logloss: 0.0603569\n",
            "[423]\tvalid_0's auc: 0.956745\tvalid_0's binary_logloss: 0.0603187\n",
            "[424]\tvalid_0's auc: 0.956762\tvalid_0's binary_logloss: 0.0603084\n",
            "[425]\tvalid_0's auc: 0.956782\tvalid_0's binary_logloss: 0.0602932\n",
            "[426]\tvalid_0's auc: 0.956788\tvalid_0's binary_logloss: 0.0602624\n",
            "[427]\tvalid_0's auc: 0.956803\tvalid_0's binary_logloss: 0.0602458\n",
            "[428]\tvalid_0's auc: 0.956796\tvalid_0's binary_logloss: 0.0602395\n",
            "[429]\tvalid_0's auc: 0.9568\tvalid_0's binary_logloss: 0.0602227\n",
            "[430]\tvalid_0's auc: 0.956794\tvalid_0's binary_logloss: 0.0602255\n",
            "[431]\tvalid_0's auc: 0.956821\tvalid_0's binary_logloss: 0.0602036\n",
            "[432]\tvalid_0's auc: 0.956833\tvalid_0's binary_logloss: 0.060189\n",
            "[433]\tvalid_0's auc: 0.956853\tvalid_0's binary_logloss: 0.060171\n",
            "[434]\tvalid_0's auc: 0.956864\tvalid_0's binary_logloss: 0.0601675\n",
            "[435]\tvalid_0's auc: 0.956901\tvalid_0's binary_logloss: 0.0601453\n",
            "[436]\tvalid_0's auc: 0.957084\tvalid_0's binary_logloss: 0.0600452\n",
            "[437]\tvalid_0's auc: 0.957095\tvalid_0's binary_logloss: 0.0600193\n",
            "[438]\tvalid_0's auc: 0.95715\tvalid_0's binary_logloss: 0.0599872\n",
            "[439]\tvalid_0's auc: 0.957165\tvalid_0's binary_logloss: 0.0599716\n",
            "[440]\tvalid_0's auc: 0.957198\tvalid_0's binary_logloss: 0.0599281\n",
            "[441]\tvalid_0's auc: 0.957241\tvalid_0's binary_logloss: 0.0599035\n",
            "[442]\tvalid_0's auc: 0.957261\tvalid_0's binary_logloss: 0.0598861\n",
            "[443]\tvalid_0's auc: 0.957292\tvalid_0's binary_logloss: 0.0598559\n",
            "[444]\tvalid_0's auc: 0.957298\tvalid_0's binary_logloss: 0.0598471\n",
            "[445]\tvalid_0's auc: 0.957298\tvalid_0's binary_logloss: 0.0598269\n",
            "[446]\tvalid_0's auc: 0.957309\tvalid_0's binary_logloss: 0.0598155\n",
            "[447]\tvalid_0's auc: 0.9573\tvalid_0's binary_logloss: 0.0598019\n",
            "[448]\tvalid_0's auc: 0.957308\tvalid_0's binary_logloss: 0.0597833\n",
            "[449]\tvalid_0's auc: 0.957302\tvalid_0's binary_logloss: 0.059777\n",
            "[450]\tvalid_0's auc: 0.957382\tvalid_0's binary_logloss: 0.05974\n",
            "[451]\tvalid_0's auc: 0.957418\tvalid_0's binary_logloss: 0.0597173\n",
            "[452]\tvalid_0's auc: 0.957418\tvalid_0's binary_logloss: 0.0596948\n",
            "[453]\tvalid_0's auc: 0.957427\tvalid_0's binary_logloss: 0.059681\n",
            "[454]\tvalid_0's auc: 0.957425\tvalid_0's binary_logloss: 0.0596781\n",
            "[455]\tvalid_0's auc: 0.957458\tvalid_0's binary_logloss: 0.0596469\n",
            "[456]\tvalid_0's auc: 0.957485\tvalid_0's binary_logloss: 0.05962\n",
            "[457]\tvalid_0's auc: 0.957493\tvalid_0's binary_logloss: 0.0596076\n",
            "[458]\tvalid_0's auc: 0.957508\tvalid_0's binary_logloss: 0.0595697\n",
            "[459]\tvalid_0's auc: 0.957528\tvalid_0's binary_logloss: 0.0595424\n",
            "[460]\tvalid_0's auc: 0.957543\tvalid_0's binary_logloss: 0.0595252\n",
            "[461]\tvalid_0's auc: 0.957558\tvalid_0's binary_logloss: 0.0595071\n",
            "[462]\tvalid_0's auc: 0.957593\tvalid_0's binary_logloss: 0.05948\n",
            "[463]\tvalid_0's auc: 0.957602\tvalid_0's binary_logloss: 0.0594456\n",
            "[464]\tvalid_0's auc: 0.957617\tvalid_0's binary_logloss: 0.0594035\n",
            "[465]\tvalid_0's auc: 0.957623\tvalid_0's binary_logloss: 0.0593851\n",
            "[466]\tvalid_0's auc: 0.957654\tvalid_0's binary_logloss: 0.0593646\n",
            "[467]\tvalid_0's auc: 0.957671\tvalid_0's binary_logloss: 0.0593545\n",
            "[468]\tvalid_0's auc: 0.957668\tvalid_0's binary_logloss: 0.0593535\n",
            "[469]\tvalid_0's auc: 0.95769\tvalid_0's binary_logloss: 0.0593322\n",
            "[470]\tvalid_0's auc: 0.95768\tvalid_0's binary_logloss: 0.0593293\n",
            "[471]\tvalid_0's auc: 0.957737\tvalid_0's binary_logloss: 0.0593031\n",
            "[472]\tvalid_0's auc: 0.957736\tvalid_0's binary_logloss: 0.0592927\n",
            "[473]\tvalid_0's auc: 0.957718\tvalid_0's binary_logloss: 0.0592867\n",
            "[474]\tvalid_0's auc: 0.957731\tvalid_0's binary_logloss: 0.0592735\n",
            "[475]\tvalid_0's auc: 0.957752\tvalid_0's binary_logloss: 0.0592522\n",
            "[476]\tvalid_0's auc: 0.957767\tvalid_0's binary_logloss: 0.0592435\n",
            "[477]\tvalid_0's auc: 0.957826\tvalid_0's binary_logloss: 0.0592105\n",
            "[478]\tvalid_0's auc: 0.957844\tvalid_0's binary_logloss: 0.0591807\n",
            "[479]\tvalid_0's auc: 0.957845\tvalid_0's binary_logloss: 0.0591715\n",
            "[480]\tvalid_0's auc: 0.957858\tvalid_0's binary_logloss: 0.0591631\n",
            "[481]\tvalid_0's auc: 0.957867\tvalid_0's binary_logloss: 0.059139\n",
            "[482]\tvalid_0's auc: 0.957872\tvalid_0's binary_logloss: 0.059129\n",
            "[483]\tvalid_0's auc: 0.957932\tvalid_0's binary_logloss: 0.0591025\n",
            "[484]\tvalid_0's auc: 0.957972\tvalid_0's binary_logloss: 0.0590956\n",
            "[485]\tvalid_0's auc: 0.957962\tvalid_0's binary_logloss: 0.0590931\n",
            "[486]\tvalid_0's auc: 0.958015\tvalid_0's binary_logloss: 0.0590593\n",
            "[487]\tvalid_0's auc: 0.958025\tvalid_0's binary_logloss: 0.0590423\n",
            "[488]\tvalid_0's auc: 0.958089\tvalid_0's binary_logloss: 0.058997\n",
            "[489]\tvalid_0's auc: 0.958124\tvalid_0's binary_logloss: 0.0589543\n",
            "[490]\tvalid_0's auc: 0.958131\tvalid_0's binary_logloss: 0.0589411\n",
            "[491]\tvalid_0's auc: 0.958165\tvalid_0's binary_logloss: 0.058924\n",
            "[492]\tvalid_0's auc: 0.958149\tvalid_0's binary_logloss: 0.0589092\n",
            "[493]\tvalid_0's auc: 0.958161\tvalid_0's binary_logloss: 0.0588994\n",
            "[494]\tvalid_0's auc: 0.95817\tvalid_0's binary_logloss: 0.0588955\n",
            "[495]\tvalid_0's auc: 0.958184\tvalid_0's binary_logloss: 0.0588715\n",
            "[496]\tvalid_0's auc: 0.958218\tvalid_0's binary_logloss: 0.0588418\n",
            "[497]\tvalid_0's auc: 0.958271\tvalid_0's binary_logloss: 0.0587853\n",
            "[498]\tvalid_0's auc: 0.958275\tvalid_0's binary_logloss: 0.0587623\n",
            "[499]\tvalid_0's auc: 0.958312\tvalid_0's binary_logloss: 0.0587272\n",
            "[500]\tvalid_0's auc: 0.958306\tvalid_0's binary_logloss: 0.0587159\n",
            "Did not meet early stopping. Best iteration is:\n",
            "[499]\tvalid_0's auc: 0.958312\tvalid_0's binary_logloss: 0.0587272\n",
            "pre-training-ROC AUC: 0.9583\n"
          ],
          "name": "stdout"
        }
      ]
    },
    {
      "cell_type": "code",
      "metadata": {
        "id": "EMPc9pTDma8B",
        "colab_type": "code",
        "outputId": "f0c27ea0-3c12-430a-90cb-cb4993e35847",
        "colab": {
          "base_uri": "https://localhost:8080/",
          "height": 35
        }
      },
      "source": [
        "# test_merged 데이터셋의 object컬럼을 라벨인코딩 시키고..\n",
        "test_merged= labelEncoding_features(test_merged, object_columns)\n",
        "\n",
        "# test_merged 데이터셋의 object컬럼중 null/nan값을 채우고..\n",
        "test_merged=fill_nan(test_merged, object_columns)\n",
        "test_transactionID= test_merged['TransactionID']\n",
        "\n",
        "X_test = test_merged.drop('TransactionID', axis=1)\n",
        "\n",
        "# 테스트 데이터셋 예측결과 - submission파일의 isFraud 에 해당.\n",
        "lgbm_pred = lgbm_clf.predict_proba(X_test)[:,1]\n",
        "\n",
        "#결과 데이터 프레임을 생성한다.\n",
        "data= { 'TransactionID': test_transactionID, \n",
        "       'isFraud': lgbm_pred\n",
        "      }\n",
        "lgbm_result = pd.DataFrame(data)\n",
        "\n",
        "# 데이터의 크기를 줄인다.\n",
        "lgbm_result=reduce_memory_use(lgbm_result)\n",
        "\n",
        "# lgbm_result={ 'TransactionID': test_transactionID,\n",
        "#               'isFraud': lgbm_pred\n",
        "#             }\n",
        "# lgbm_result= pd.DataFrame(lgbm_result)\n",
        "\n",
        "\n",
        "\n",
        "# csv파일을 생성한다.\n",
        "lgbm_result.to_csv('lgbm_submission.csv', index=False)"
      ],
      "execution_count": 0,
      "outputs": [
        {
          "output_type": "stream",
          "text": [
            "Memory usage decreased to  6.77 Mb (30.0% reduction)\n"
          ],
          "name": "stdout"
        }
      ]
    },
    {
      "cell_type": "code",
      "metadata": {
        "id": "8saLsbgjv-sP",
        "colab_type": "code",
        "outputId": "c4661031-fc7f-4696-c215-8245fdf0ae60",
        "colab": {
          "base_uri": "https://localhost:8080/",
          "height": 35
        }
      },
      "source": [
        "!ls"
      ],
      "execution_count": 0,
      "outputs": [
        {
          "output_type": "stream",
          "text": [
            "adc.json  gdrive  lgbm_submission.csv  sample_data\n"
          ],
          "name": "stdout"
        }
      ]
    },
    {
      "cell_type": "code",
      "metadata": {
        "id": "bbpFs4krwb9e",
        "colab_type": "code",
        "colab": {}
      },
      "source": [
        "!cp lgbm_submission.csv \"/content/gdrive/My Drive/.\""
      ],
      "execution_count": 0,
      "outputs": []
    },
    {
      "cell_type": "code",
      "metadata": {
        "id": "eLsfBIEsxire",
        "colab_type": "code",
        "outputId": "4c324a35-6fa6-41ed-edd5-394d7dd47f6e",
        "colab": {
          "base_uri": "https://localhost:8080/",
          "height": 719
        }
      },
      "source": [
        "!ls \"/content/gdrive/My Drive/\""
      ],
      "execution_count": 0,
      "outputs": [
        {
          "output_type": "stream",
          "text": [
            "'음성 녹음_001.m4a'\n",
            "'00학과_학번이름_결과보고서 및 만족도 조사(2018)-1.hwp'\n",
            "'음성 녹음_002.m4a'\n",
            "'음성 녹음_003.m4a'\n",
            " 과제11_이진트리프로그래밍.hwp\n",
            "'19.03.29. 최은강_마일리지노트.pdf'\n",
            "'마일리지 장학금 인정 행사 2018.2학기_게시용.hwp'\n",
            " 20190525_203151.jpg\n",
            " 20190525_204330.jpg\n",
            " alakazam.png\n",
            " ArduinoHardware.h\n",
            "'Colab Notebooks'\n",
            " data\n",
            " garden0.ipynb\n",
            " homeworkend.png\n",
            " 자기소개서_이력서_최은강_수정.hwp\n",
            " ieee_fraud_detection_inColab_myself.ipynb\n",
            " 참가동의서.jpg\n",
            " lgbm_submission.csv\n",
            " 최은강.pdf\n",
            " review0604.ipynb\n",
            " robot_msgs.zip\n",
            " Screenshot_2019-04-20-14-37-08.jpg\n",
            " sketch1528037051402.png\n",
            " sketch1528037382445.png\n",
            " sketch1528537207985.png\n",
            " sketch1530804079146.png\n",
            " sketch1536518259484.png\n",
            " sketch1536518300205.png\n",
            " sketch1547399229927.png\n",
            " sketch1548565861693.png\n",
            " sketch1555481816221.png\n",
            " Sketch829431.jpg\n",
            " SSD512.zip\n",
            " Untitled0.ipynb\n",
            " Untitled1.ipynb\n",
            " Untitled2.ipynb\n",
            " Untitled3.ipynb\n",
            " VL53L0X.zip\n"
          ],
          "name": "stdout"
        }
      ]
    },
    {
      "cell_type": "markdown",
      "metadata": {
        "id": "fdF2mWiwDfyI",
        "colab_type": "text"
      },
      "source": [
        ""
      ]
    }
  ]
}